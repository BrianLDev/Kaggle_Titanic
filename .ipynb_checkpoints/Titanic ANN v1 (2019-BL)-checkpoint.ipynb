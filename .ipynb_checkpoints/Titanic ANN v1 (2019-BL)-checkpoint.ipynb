{
 "cells": [
  {
   "cell_type": "markdown",
   "metadata": {
    "colab_type": "text",
    "id": "8YZcPYIAqGbC"
   },
   "source": [
    "# Kaggle Titanic\n",
    "## Logistic Regression with Python\n",
    "\n",
    "\n",
    "For this lecture we will be working with the [Titanic Data Set from Kaggle](https://www.kaggle.com/c/titanic). This is a very famous dataset.\n"
   ]
  },
  {
   "cell_type": "markdown",
   "metadata": {
    "colab_type": "text",
    "id": "cUnOm_5Sq8GT"
   },
   "source": [
    "# Step - 1 : Frame The Problem"
   ]
  },
  {
   "cell_type": "markdown",
   "metadata": {
    "colab_type": "text",
    "id": "0uinjbqww7AY"
   },
   "source": [
    "The sinking of the RMS Titanic is one of the most infamous shipwrecks in history.  On April 15, 1912, during her maiden voyage, the Titanic sank after colliding with an iceberg, killing 1502 out of 2224 passengers and crew. This sensational tragedy shocked the international community and led to better safety regulations for ships.\n",
    "\n",
    "One of the reasons that the shipwreck led to such loss of life was that there were not enough lifeboats for the passengers and crew. Although there was some element of luck involved in surviving the sinking, some groups of people were more likely to survive than others, such as women, children, and the upper-class.\n",
    "\n",
    "In this challenge, we ask you to complete the analysis of what sorts of people were likely to survive. In particular, we ask you to apply the tools of machine learning to predict which passengers survived the tragedy.\n",
    "\n"
   ]
  },
  {
   "cell_type": "markdown",
   "metadata": {
    "colab_type": "text",
    "id": "QbYMguutw0U7"
   },
   "source": [
    "# Step - 2 : Obtain the Data"
   ]
  },
  {
   "cell_type": "markdown",
   "metadata": {
    "colab_type": "text",
    "id": "2Rpa7e44q9hG"
   },
   "source": [
    "## Import Libraries"
   ]
  },
  {
   "cell_type": "code",
   "execution_count": 1,
   "metadata": {
    "colab": {},
    "colab_type": "code",
    "id": "R8l03wUUqGbO"
   },
   "outputs": [],
   "source": [
    "import pandas as pd\n",
    "import numpy as np\n",
    "import matplotlib.pyplot as plt\n",
    "import seaborn as sns\n",
    "%matplotlib inline"
   ]
  },
  {
   "cell_type": "markdown",
   "metadata": {
    "colab_type": "text",
    "id": "DInPcxyBqGbT"
   },
   "source": [
    "Pandas provides two important data types with in built functions to be able to provide extensive capability to handle the data.The datatypes include Series and DataFrames."
   ]
  },
  {
   "cell_type": "markdown",
   "metadata": {
    "colab_type": "text",
    "id": "MszA1lldqGbU"
   },
   "source": [
    "Pandas provides ways to read or get the data from various sources like read_csv,read_excel,read_html etc.The data is read and stored in the form of DataFrames."
   ]
  },
  {
   "cell_type": "markdown",
   "metadata": {
    "colab_type": "text",
    "id": "MksYS8zQigKr"
   },
   "source": []
  },
  {
   "cell_type": "code",
   "execution_count": 2,
   "metadata": {
    "colab": {},
    "colab_type": "code",
    "id": "xhQhLNWGVf98"
   },
   "outputs": [],
   "source": [
    "# FOR GOOGLE COLAB, UNCOMMENT LINES BELOW\n",
    "\n",
    "# !wget -q https://www.dropbox.com/s/8grgwn4b6y25frw/titanic.csv\n",
    "# !ls -l\n",
    "# data = pd.read_csv('titanic.csv')"
   ]
  },
  {
   "cell_type": "code",
   "execution_count": 3,
   "metadata": {
    "colab": {},
    "colab_type": "code",
    "id": "NGWNIC97qGbU"
   },
   "outputs": [],
   "source": [
    "# FOR JUPYTER NOTEBOOK, UNCOMMENT LINES BELOW\n",
    "\n",
    "data = pd.read_csv('Titanic Data-Train.csv')"
   ]
  },
  {
   "cell_type": "code",
   "execution_count": 4,
   "metadata": {},
   "outputs": [],
   "source": [
    "data.set_index('PassengerId', inplace=True)"
   ]
  },
  {
   "cell_type": "code",
   "execution_count": 5,
   "metadata": {
    "colab": {},
    "colab_type": "code",
    "id": "cCRuD3VoqGb6"
   },
   "outputs": [
    {
     "name": "stdout",
     "output_type": "stream",
     "text": [
      "<class 'pandas.core.frame.DataFrame'>\n",
      "Int64Index: 891 entries, 1 to 891\n",
      "Data columns (total 11 columns):\n",
      "Survived    891 non-null int64\n",
      "Pclass      891 non-null int64\n",
      "Name        891 non-null object\n",
      "Sex         891 non-null object\n",
      "Age         714 non-null float64\n",
      "SibSp       891 non-null int64\n",
      "Parch       891 non-null int64\n",
      "Ticket      891 non-null object\n",
      "Fare        891 non-null float64\n",
      "Cabin       204 non-null object\n",
      "Embarked    889 non-null object\n",
      "dtypes: float64(2), int64(4), object(5)\n",
      "memory usage: 83.5+ KB\n"
     ]
    }
   ],
   "source": [
    "data.info()"
   ]
  },
  {
   "cell_type": "code",
   "execution_count": 6,
   "metadata": {
    "colab": {},
    "colab_type": "code",
    "id": "Gn1GrNdDqGb-"
   },
   "outputs": [
    {
     "data": {
      "text/html": [
       "<div>\n",
       "<style>\n",
       "    .dataframe thead tr:only-child th {\n",
       "        text-align: right;\n",
       "    }\n",
       "\n",
       "    .dataframe thead th {\n",
       "        text-align: left;\n",
       "    }\n",
       "\n",
       "    .dataframe tbody tr th {\n",
       "        vertical-align: top;\n",
       "    }\n",
       "</style>\n",
       "<table border=\"1\" class=\"dataframe\">\n",
       "  <thead>\n",
       "    <tr style=\"text-align: right;\">\n",
       "      <th></th>\n",
       "      <th>Survived</th>\n",
       "      <th>Pclass</th>\n",
       "      <th>Age</th>\n",
       "      <th>SibSp</th>\n",
       "      <th>Parch</th>\n",
       "      <th>Fare</th>\n",
       "    </tr>\n",
       "  </thead>\n",
       "  <tbody>\n",
       "    <tr>\n",
       "      <th>count</th>\n",
       "      <td>891.000000</td>\n",
       "      <td>891.000000</td>\n",
       "      <td>714.000000</td>\n",
       "      <td>891.000000</td>\n",
       "      <td>891.000000</td>\n",
       "      <td>891.000000</td>\n",
       "    </tr>\n",
       "    <tr>\n",
       "      <th>mean</th>\n",
       "      <td>0.383838</td>\n",
       "      <td>2.308642</td>\n",
       "      <td>29.699118</td>\n",
       "      <td>0.523008</td>\n",
       "      <td>0.381594</td>\n",
       "      <td>32.204208</td>\n",
       "    </tr>\n",
       "    <tr>\n",
       "      <th>std</th>\n",
       "      <td>0.486592</td>\n",
       "      <td>0.836071</td>\n",
       "      <td>14.526497</td>\n",
       "      <td>1.102743</td>\n",
       "      <td>0.806057</td>\n",
       "      <td>49.693429</td>\n",
       "    </tr>\n",
       "    <tr>\n",
       "      <th>min</th>\n",
       "      <td>0.000000</td>\n",
       "      <td>1.000000</td>\n",
       "      <td>0.420000</td>\n",
       "      <td>0.000000</td>\n",
       "      <td>0.000000</td>\n",
       "      <td>0.000000</td>\n",
       "    </tr>\n",
       "    <tr>\n",
       "      <th>25%</th>\n",
       "      <td>0.000000</td>\n",
       "      <td>2.000000</td>\n",
       "      <td>20.125000</td>\n",
       "      <td>0.000000</td>\n",
       "      <td>0.000000</td>\n",
       "      <td>7.910400</td>\n",
       "    </tr>\n",
       "    <tr>\n",
       "      <th>50%</th>\n",
       "      <td>0.000000</td>\n",
       "      <td>3.000000</td>\n",
       "      <td>28.000000</td>\n",
       "      <td>0.000000</td>\n",
       "      <td>0.000000</td>\n",
       "      <td>14.454200</td>\n",
       "    </tr>\n",
       "    <tr>\n",
       "      <th>75%</th>\n",
       "      <td>1.000000</td>\n",
       "      <td>3.000000</td>\n",
       "      <td>38.000000</td>\n",
       "      <td>1.000000</td>\n",
       "      <td>0.000000</td>\n",
       "      <td>31.000000</td>\n",
       "    </tr>\n",
       "    <tr>\n",
       "      <th>max</th>\n",
       "      <td>1.000000</td>\n",
       "      <td>3.000000</td>\n",
       "      <td>80.000000</td>\n",
       "      <td>8.000000</td>\n",
       "      <td>6.000000</td>\n",
       "      <td>512.329200</td>\n",
       "    </tr>\n",
       "  </tbody>\n",
       "</table>\n",
       "</div>"
      ],
      "text/plain": [
       "         Survived      Pclass         Age       SibSp       Parch        Fare\n",
       "count  891.000000  891.000000  714.000000  891.000000  891.000000  891.000000\n",
       "mean     0.383838    2.308642   29.699118    0.523008    0.381594   32.204208\n",
       "std      0.486592    0.836071   14.526497    1.102743    0.806057   49.693429\n",
       "min      0.000000    1.000000    0.420000    0.000000    0.000000    0.000000\n",
       "25%      0.000000    2.000000   20.125000    0.000000    0.000000    7.910400\n",
       "50%      0.000000    3.000000   28.000000    0.000000    0.000000   14.454200\n",
       "75%      1.000000    3.000000   38.000000    1.000000    0.000000   31.000000\n",
       "max      1.000000    3.000000   80.000000    8.000000    6.000000  512.329200"
      ]
     },
     "execution_count": 6,
     "metadata": {},
     "output_type": "execute_result"
    }
   ],
   "source": [
    "data.describe()"
   ]
  },
  {
   "cell_type": "markdown",
   "metadata": {
    "colab_type": "text",
    "id": "dIQKjiAlqGdC"
   },
   "source": [
    "# Step - 3 : Analyse the Data"
   ]
  },
  {
   "cell_type": "markdown",
   "metadata": {
    "colab_type": "text",
    "id": "bzBbQPjTqGd3"
   },
   "source": [
    "#### What do you observe from the above charts?"
   ]
  },
  {
   "cell_type": "markdown",
   "metadata": {
    "colab_type": "text",
    "id": "xG35AZ1aqGd4"
   },
   "source": [
    "# Step - 4 : Feature Engineering"
   ]
  },
  {
   "cell_type": "markdown",
   "metadata": {
    "colab_type": "text",
    "id": "RayCVmJgrdHz"
   },
   "source": [
    "## Feature Engineering\n",
    "\n",
    "We want to fill the missing values of the age in the dataset with the average age value for each of the classes. This is called data imputation."
   ]
  },
  {
   "cell_type": "code",
   "execution_count": 7,
   "metadata": {
    "colab": {},
    "colab_type": "code",
    "id": "3RxPvDC8fLeV"
   },
   "outputs": [
    {
     "name": "stdout",
     "output_type": "stream",
     "text": [
      "<class 'pandas.core.frame.DataFrame'>\n",
      "Int64Index: 891 entries, 1 to 891\n",
      "Data columns (total 11 columns):\n",
      "Survived    891 non-null int64\n",
      "Pclass      891 non-null int64\n",
      "Name        891 non-null object\n",
      "Sex         891 non-null object\n",
      "Age         714 non-null float64\n",
      "SibSp       891 non-null int64\n",
      "Parch       891 non-null int64\n",
      "Ticket      891 non-null object\n",
      "Fare        891 non-null float64\n",
      "Cabin       204 non-null object\n",
      "Embarked    889 non-null object\n",
      "dtypes: float64(2), int64(4), object(5)\n",
      "memory usage: 83.5+ KB\n"
     ]
    }
   ],
   "source": [
    "data.info()"
   ]
  },
  {
   "cell_type": "code",
   "execution_count": 8,
   "metadata": {
    "colab": {},
    "colab_type": "code",
    "id": "8tDUkV-5F27N"
   },
   "outputs": [],
   "source": [
    "# BL NOTE - SKIP THIS AND USE THE PANDAS CODE I CREATED BELOW\n",
    "# def impute_age(cols):\n",
    "#     Age = cols[0]\n",
    "#     Pclass = cols[1]\n",
    "    \n",
    "#     if pd.isnull(Age):\n",
    "#         # Class-1\n",
    "#         if Pclass == 1:\n",
    "#             return 37\n",
    "#         # Class-2 \n",
    "#         elif Pclass == 2:\n",
    "#             return 29\n",
    "#         # Class-3\n",
    "#         else:\n",
    "#             return 24\n",
    "\n",
    "#     else:\n",
    "#         return Age"
   ]
  },
  {
   "cell_type": "markdown",
   "metadata": {
    "colab_type": "text",
    "id": "N6OROGCHqGd_"
   },
   "source": [
    "Applying the function."
   ]
  },
  {
   "cell_type": "code",
   "execution_count": 9,
   "metadata": {
    "colab": {},
    "colab_type": "code",
    "id": "SzBf6AG2qGd_"
   },
   "outputs": [],
   "source": [
    "# data['Age'] = data[['Age','Pclass']].apply(impute_age,axis=1)"
   ]
  },
  {
   "cell_type": "code",
   "execution_count": 10,
   "metadata": {
    "colab": {},
    "colab_type": "code",
    "id": "h2fqvAHs1icZ"
   },
   "outputs": [],
   "source": [
    "# BL NOTE - USE MY CODE TO GET THE MEAN VALUE FOR EACH CLASS INSTEAD OF HARD CODED NUMBERS\n",
    "mean_age_Pclass1 = int(data.loc[data['Pclass']==1]['Age'].mean())\n",
    "mean_age_Pclass2 = int(data.loc[data['Pclass']==2]['Age'].mean())\n",
    "mean_age_Pclass3 = int(data.loc[data['Pclass']==3]['Age'].mean())\n",
    "\n",
    "data.loc[(data['Age'].isnull() ) & (data['Pclass']==1), 'Age'] = mean_age_Pclass1\n",
    "data.loc[(data['Age'].isnull() ) & (data['Pclass']==2), 'Age'] = mean_age_Pclass2\n",
    "data.loc[(data['Age'].isnull() ) & (data['Pclass']==3), 'Age'] = mean_age_Pclass3"
   ]
  },
  {
   "cell_type": "markdown",
   "metadata": {
    "colab_type": "text",
    "id": "aND3OdBbqGeB"
   },
   "source": [
    "Now let's visualize the missing values."
   ]
  },
  {
   "cell_type": "markdown",
   "metadata": {
    "colab_type": "text",
    "id": "kk0SpICkqGeF"
   },
   "source": [
    "The Age column is imputed sucessfully.\n",
    "\n",
    "Let's drop the Cabin column and the row in the Embarked that is NaN."
   ]
  },
  {
   "cell_type": "code",
   "execution_count": 11,
   "metadata": {
    "colab": {},
    "colab_type": "code",
    "id": "NWgx7WhqqGeF"
   },
   "outputs": [],
   "source": [
    "data.drop('Cabin', axis = 1,inplace=True)"
   ]
  },
  {
   "cell_type": "code",
   "execution_count": 12,
   "metadata": {
    "colab": {},
    "colab_type": "code",
    "id": "fNdWNAhJqGeH"
   },
   "outputs": [
    {
     "data": {
      "text/html": [
       "<div>\n",
       "<style>\n",
       "    .dataframe thead tr:only-child th {\n",
       "        text-align: right;\n",
       "    }\n",
       "\n",
       "    .dataframe thead th {\n",
       "        text-align: left;\n",
       "    }\n",
       "\n",
       "    .dataframe tbody tr th {\n",
       "        vertical-align: top;\n",
       "    }\n",
       "</style>\n",
       "<table border=\"1\" class=\"dataframe\">\n",
       "  <thead>\n",
       "    <tr style=\"text-align: right;\">\n",
       "      <th></th>\n",
       "      <th>Survived</th>\n",
       "      <th>Pclass</th>\n",
       "      <th>Name</th>\n",
       "      <th>Sex</th>\n",
       "      <th>Age</th>\n",
       "      <th>SibSp</th>\n",
       "      <th>Parch</th>\n",
       "      <th>Ticket</th>\n",
       "      <th>Fare</th>\n",
       "      <th>Embarked</th>\n",
       "    </tr>\n",
       "    <tr>\n",
       "      <th>PassengerId</th>\n",
       "      <th></th>\n",
       "      <th></th>\n",
       "      <th></th>\n",
       "      <th></th>\n",
       "      <th></th>\n",
       "      <th></th>\n",
       "      <th></th>\n",
       "      <th></th>\n",
       "      <th></th>\n",
       "      <th></th>\n",
       "    </tr>\n",
       "  </thead>\n",
       "  <tbody>\n",
       "    <tr>\n",
       "      <th>1</th>\n",
       "      <td>0</td>\n",
       "      <td>3</td>\n",
       "      <td>Braund, Mr. Owen Harris</td>\n",
       "      <td>male</td>\n",
       "      <td>22.0</td>\n",
       "      <td>1</td>\n",
       "      <td>0</td>\n",
       "      <td>A/5 21171</td>\n",
       "      <td>7.2500</td>\n",
       "      <td>S</td>\n",
       "    </tr>\n",
       "    <tr>\n",
       "      <th>2</th>\n",
       "      <td>1</td>\n",
       "      <td>1</td>\n",
       "      <td>Cumings, Mrs. John Bradley (Florence Briggs Th...</td>\n",
       "      <td>female</td>\n",
       "      <td>38.0</td>\n",
       "      <td>1</td>\n",
       "      <td>0</td>\n",
       "      <td>PC 17599</td>\n",
       "      <td>71.2833</td>\n",
       "      <td>C</td>\n",
       "    </tr>\n",
       "    <tr>\n",
       "      <th>3</th>\n",
       "      <td>1</td>\n",
       "      <td>3</td>\n",
       "      <td>Heikkinen, Miss. Laina</td>\n",
       "      <td>female</td>\n",
       "      <td>26.0</td>\n",
       "      <td>0</td>\n",
       "      <td>0</td>\n",
       "      <td>STON/O2. 3101282</td>\n",
       "      <td>7.9250</td>\n",
       "      <td>S</td>\n",
       "    </tr>\n",
       "    <tr>\n",
       "      <th>4</th>\n",
       "      <td>1</td>\n",
       "      <td>1</td>\n",
       "      <td>Futrelle, Mrs. Jacques Heath (Lily May Peel)</td>\n",
       "      <td>female</td>\n",
       "      <td>35.0</td>\n",
       "      <td>1</td>\n",
       "      <td>0</td>\n",
       "      <td>113803</td>\n",
       "      <td>53.1000</td>\n",
       "      <td>S</td>\n",
       "    </tr>\n",
       "    <tr>\n",
       "      <th>5</th>\n",
       "      <td>0</td>\n",
       "      <td>3</td>\n",
       "      <td>Allen, Mr. William Henry</td>\n",
       "      <td>male</td>\n",
       "      <td>35.0</td>\n",
       "      <td>0</td>\n",
       "      <td>0</td>\n",
       "      <td>373450</td>\n",
       "      <td>8.0500</td>\n",
       "      <td>S</td>\n",
       "    </tr>\n",
       "  </tbody>\n",
       "</table>\n",
       "</div>"
      ],
      "text/plain": [
       "             Survived  Pclass  \\\n",
       "PassengerId                     \n",
       "1                   0       3   \n",
       "2                   1       1   \n",
       "3                   1       3   \n",
       "4                   1       1   \n",
       "5                   0       3   \n",
       "\n",
       "                                                          Name     Sex   Age  \\\n",
       "PassengerId                                                                    \n",
       "1                                      Braund, Mr. Owen Harris    male  22.0   \n",
       "2            Cumings, Mrs. John Bradley (Florence Briggs Th...  female  38.0   \n",
       "3                                       Heikkinen, Miss. Laina  female  26.0   \n",
       "4                 Futrelle, Mrs. Jacques Heath (Lily May Peel)  female  35.0   \n",
       "5                                     Allen, Mr. William Henry    male  35.0   \n",
       "\n",
       "             SibSp  Parch            Ticket     Fare Embarked  \n",
       "PassengerId                                                    \n",
       "1                1      0         A/5 21171   7.2500        S  \n",
       "2                1      0          PC 17599  71.2833        C  \n",
       "3                0      0  STON/O2. 3101282   7.9250        S  \n",
       "4                1      0            113803  53.1000        S  \n",
       "5                0      0            373450   8.0500        S  "
      ]
     },
     "execution_count": 12,
     "metadata": {},
     "output_type": "execute_result"
    }
   ],
   "source": [
    "data.head()"
   ]
  },
  {
   "cell_type": "code",
   "execution_count": 13,
   "metadata": {
    "colab": {},
    "colab_type": "code",
    "id": "z9N-e4fi15Ay"
   },
   "outputs": [
    {
     "data": {
      "text/plain": [
       "Survived    0\n",
       "Pclass      0\n",
       "Name        0\n",
       "Sex         0\n",
       "Age         0\n",
       "SibSp       0\n",
       "Parch       0\n",
       "Ticket      0\n",
       "Fare        0\n",
       "Embarked    2\n",
       "dtype: int64"
      ]
     },
     "execution_count": 13,
     "metadata": {},
     "output_type": "execute_result"
    }
   ],
   "source": [
    "data.isnull().sum()"
   ]
  },
  {
   "cell_type": "code",
   "execution_count": 14,
   "metadata": {},
   "outputs": [
    {
     "name": "stdout",
     "output_type": "stream",
     "text": [
      "<class 'pandas.core.frame.DataFrame'>\n",
      "Int64Index: 891 entries, 1 to 891\n",
      "Data columns (total 10 columns):\n",
      "Survived    891 non-null int64\n",
      "Pclass      891 non-null int64\n",
      "Name        891 non-null object\n",
      "Sex         891 non-null object\n",
      "Age         891 non-null float64\n",
      "SibSp       891 non-null int64\n",
      "Parch       891 non-null int64\n",
      "Ticket      891 non-null object\n",
      "Fare        891 non-null float64\n",
      "Embarked    889 non-null object\n",
      "dtypes: float64(2), int64(4), object(4)\n",
      "memory usage: 76.6+ KB\n"
     ]
    }
   ],
   "source": [
    "data.info()"
   ]
  },
  {
   "cell_type": "code",
   "execution_count": 15,
   "metadata": {
    "colab": {},
    "colab_type": "code",
    "id": "dOdiaYbAqGeJ"
   },
   "outputs": [],
   "source": [
    "data.dropna(inplace = True)"
   ]
  },
  {
   "cell_type": "code",
   "execution_count": 16,
   "metadata": {
    "colab": {},
    "colab_type": "code",
    "id": "yleBqUeKqGeL"
   },
   "outputs": [
    {
     "name": "stdout",
     "output_type": "stream",
     "text": [
      "<class 'pandas.core.frame.DataFrame'>\n",
      "Int64Index: 889 entries, 1 to 891\n",
      "Data columns (total 10 columns):\n",
      "Survived    889 non-null int64\n",
      "Pclass      889 non-null int64\n",
      "Name        889 non-null object\n",
      "Sex         889 non-null object\n",
      "Age         889 non-null float64\n",
      "SibSp       889 non-null int64\n",
      "Parch       889 non-null int64\n",
      "Ticket      889 non-null object\n",
      "Fare        889 non-null float64\n",
      "Embarked    889 non-null object\n",
      "dtypes: float64(2), int64(4), object(4)\n",
      "memory usage: 76.4+ KB\n"
     ]
    }
   ],
   "source": [
    "data.info()"
   ]
  },
  {
   "cell_type": "markdown",
   "metadata": {
    "colab_type": "text",
    "id": "oR-3amnaqGeO"
   },
   "source": [
    "## Converting Categorical Features \n",
    "\n",
    "We'll need to convert categorical features to dummy variables using pandas! Otherwise our machine learning algorithm won't be able to directly take in those features as inputs."
   ]
  },
  {
   "cell_type": "code",
   "execution_count": 17,
   "metadata": {
    "colab": {},
    "colab_type": "code",
    "id": "2j5npHKGqGeS"
   },
   "outputs": [
    {
     "data": {
      "text/html": [
       "<div>\n",
       "<style>\n",
       "    .dataframe thead tr:only-child th {\n",
       "        text-align: right;\n",
       "    }\n",
       "\n",
       "    .dataframe thead th {\n",
       "        text-align: left;\n",
       "    }\n",
       "\n",
       "    .dataframe tbody tr th {\n",
       "        vertical-align: top;\n",
       "    }\n",
       "</style>\n",
       "<table border=\"1\" class=\"dataframe\">\n",
       "  <thead>\n",
       "    <tr style=\"text-align: right;\">\n",
       "      <th></th>\n",
       "      <th>male</th>\n",
       "    </tr>\n",
       "    <tr>\n",
       "      <th>PassengerId</th>\n",
       "      <th></th>\n",
       "    </tr>\n",
       "  </thead>\n",
       "  <tbody>\n",
       "    <tr>\n",
       "      <th>1</th>\n",
       "      <td>1</td>\n",
       "    </tr>\n",
       "    <tr>\n",
       "      <th>2</th>\n",
       "      <td>0</td>\n",
       "    </tr>\n",
       "    <tr>\n",
       "      <th>3</th>\n",
       "      <td>0</td>\n",
       "    </tr>\n",
       "    <tr>\n",
       "      <th>4</th>\n",
       "      <td>0</td>\n",
       "    </tr>\n",
       "    <tr>\n",
       "      <th>5</th>\n",
       "      <td>1</td>\n",
       "    </tr>\n",
       "  </tbody>\n",
       "</table>\n",
       "</div>"
      ],
      "text/plain": [
       "             male\n",
       "PassengerId      \n",
       "1               1\n",
       "2               0\n",
       "3               0\n",
       "4               0\n",
       "5               1"
      ]
     },
     "execution_count": 17,
     "metadata": {},
     "output_type": "execute_result"
    }
   ],
   "source": [
    "sex_dummies = pd.get_dummies(data['Sex'],drop_first=1)\n",
    "embark_dummies = pd.get_dummies(data['Embarked'],drop_first=1)\n",
    "sex_dummies.head()"
   ]
  },
  {
   "cell_type": "code",
   "execution_count": 18,
   "metadata": {
    "colab": {},
    "colab_type": "code",
    "id": "hNZIx3jQqGeV"
   },
   "outputs": [
    {
     "data": {
      "text/html": [
       "<div>\n",
       "<style>\n",
       "    .dataframe thead tr:only-child th {\n",
       "        text-align: right;\n",
       "    }\n",
       "\n",
       "    .dataframe thead th {\n",
       "        text-align: left;\n",
       "    }\n",
       "\n",
       "    .dataframe tbody tr th {\n",
       "        vertical-align: top;\n",
       "    }\n",
       "</style>\n",
       "<table border=\"1\" class=\"dataframe\">\n",
       "  <thead>\n",
       "    <tr style=\"text-align: right;\">\n",
       "      <th></th>\n",
       "      <th>Q</th>\n",
       "      <th>S</th>\n",
       "    </tr>\n",
       "    <tr>\n",
       "      <th>PassengerId</th>\n",
       "      <th></th>\n",
       "      <th></th>\n",
       "    </tr>\n",
       "  </thead>\n",
       "  <tbody>\n",
       "    <tr>\n",
       "      <th>1</th>\n",
       "      <td>0</td>\n",
       "      <td>1</td>\n",
       "    </tr>\n",
       "    <tr>\n",
       "      <th>2</th>\n",
       "      <td>0</td>\n",
       "      <td>0</td>\n",
       "    </tr>\n",
       "    <tr>\n",
       "      <th>3</th>\n",
       "      <td>0</td>\n",
       "      <td>1</td>\n",
       "    </tr>\n",
       "    <tr>\n",
       "      <th>4</th>\n",
       "      <td>0</td>\n",
       "      <td>1</td>\n",
       "    </tr>\n",
       "    <tr>\n",
       "      <th>5</th>\n",
       "      <td>0</td>\n",
       "      <td>1</td>\n",
       "    </tr>\n",
       "  </tbody>\n",
       "</table>\n",
       "</div>"
      ],
      "text/plain": [
       "             Q  S\n",
       "PassengerId      \n",
       "1            0  1\n",
       "2            0  0\n",
       "3            0  1\n",
       "4            0  1\n",
       "5            0  1"
      ]
     },
     "execution_count": 18,
     "metadata": {},
     "output_type": "execute_result"
    }
   ],
   "source": [
    "embark_dummies.head()"
   ]
  },
  {
   "cell_type": "code",
   "execution_count": 19,
   "metadata": {
    "colab": {},
    "colab_type": "code",
    "id": "_X0iFWXRqGeX"
   },
   "outputs": [
    {
     "data": {
      "text/html": [
       "<div>\n",
       "<style>\n",
       "    .dataframe thead tr:only-child th {\n",
       "        text-align: right;\n",
       "    }\n",
       "\n",
       "    .dataframe thead th {\n",
       "        text-align: left;\n",
       "    }\n",
       "\n",
       "    .dataframe tbody tr th {\n",
       "        vertical-align: top;\n",
       "    }\n",
       "</style>\n",
       "<table border=\"1\" class=\"dataframe\">\n",
       "  <thead>\n",
       "    <tr style=\"text-align: right;\">\n",
       "      <th></th>\n",
       "      <th>Survived</th>\n",
       "      <th>Pclass</th>\n",
       "      <th>Age</th>\n",
       "      <th>SibSp</th>\n",
       "      <th>Parch</th>\n",
       "      <th>Fare</th>\n",
       "    </tr>\n",
       "    <tr>\n",
       "      <th>PassengerId</th>\n",
       "      <th></th>\n",
       "      <th></th>\n",
       "      <th></th>\n",
       "      <th></th>\n",
       "      <th></th>\n",
       "      <th></th>\n",
       "    </tr>\n",
       "  </thead>\n",
       "  <tbody>\n",
       "    <tr>\n",
       "      <th>1</th>\n",
       "      <td>0</td>\n",
       "      <td>3</td>\n",
       "      <td>22.0</td>\n",
       "      <td>1</td>\n",
       "      <td>0</td>\n",
       "      <td>7.2500</td>\n",
       "    </tr>\n",
       "    <tr>\n",
       "      <th>2</th>\n",
       "      <td>1</td>\n",
       "      <td>1</td>\n",
       "      <td>38.0</td>\n",
       "      <td>1</td>\n",
       "      <td>0</td>\n",
       "      <td>71.2833</td>\n",
       "    </tr>\n",
       "    <tr>\n",
       "      <th>3</th>\n",
       "      <td>1</td>\n",
       "      <td>3</td>\n",
       "      <td>26.0</td>\n",
       "      <td>0</td>\n",
       "      <td>0</td>\n",
       "      <td>7.9250</td>\n",
       "    </tr>\n",
       "    <tr>\n",
       "      <th>4</th>\n",
       "      <td>1</td>\n",
       "      <td>1</td>\n",
       "      <td>35.0</td>\n",
       "      <td>1</td>\n",
       "      <td>0</td>\n",
       "      <td>53.1000</td>\n",
       "    </tr>\n",
       "    <tr>\n",
       "      <th>5</th>\n",
       "      <td>0</td>\n",
       "      <td>3</td>\n",
       "      <td>35.0</td>\n",
       "      <td>0</td>\n",
       "      <td>0</td>\n",
       "      <td>8.0500</td>\n",
       "    </tr>\n",
       "  </tbody>\n",
       "</table>\n",
       "</div>"
      ],
      "text/plain": [
       "             Survived  Pclass   Age  SibSp  Parch     Fare\n",
       "PassengerId                                               \n",
       "1                   0       3  22.0      1      0   7.2500\n",
       "2                   1       1  38.0      1      0  71.2833\n",
       "3                   1       3  26.0      0      0   7.9250\n",
       "4                   1       1  35.0      1      0  53.1000\n",
       "5                   0       3  35.0      0      0   8.0500"
      ]
     },
     "execution_count": 19,
     "metadata": {},
     "output_type": "execute_result"
    }
   ],
   "source": [
    "data.drop(['Sex','Embarked','Name','Ticket'],axis=1,inplace=True)\n",
    "data.head()"
   ]
  },
  {
   "cell_type": "code",
   "execution_count": 20,
   "metadata": {
    "colab": {},
    "colab_type": "code",
    "id": "dBedobT4qGed"
   },
   "outputs": [],
   "source": [
    "data = pd.concat([data,sex_dummies,embark_dummies],axis=1)"
   ]
  },
  {
   "cell_type": "code",
   "execution_count": 21,
   "metadata": {
    "colab": {},
    "colab_type": "code",
    "id": "g1kTmlgIqGed"
   },
   "outputs": [
    {
     "data": {
      "text/html": [
       "<div>\n",
       "<style>\n",
       "    .dataframe thead tr:only-child th {\n",
       "        text-align: right;\n",
       "    }\n",
       "\n",
       "    .dataframe thead th {\n",
       "        text-align: left;\n",
       "    }\n",
       "\n",
       "    .dataframe tbody tr th {\n",
       "        vertical-align: top;\n",
       "    }\n",
       "</style>\n",
       "<table border=\"1\" class=\"dataframe\">\n",
       "  <thead>\n",
       "    <tr style=\"text-align: right;\">\n",
       "      <th></th>\n",
       "      <th>Survived</th>\n",
       "      <th>Pclass</th>\n",
       "      <th>Age</th>\n",
       "      <th>SibSp</th>\n",
       "      <th>Parch</th>\n",
       "      <th>Fare</th>\n",
       "      <th>male</th>\n",
       "      <th>Q</th>\n",
       "      <th>S</th>\n",
       "    </tr>\n",
       "    <tr>\n",
       "      <th>PassengerId</th>\n",
       "      <th></th>\n",
       "      <th></th>\n",
       "      <th></th>\n",
       "      <th></th>\n",
       "      <th></th>\n",
       "      <th></th>\n",
       "      <th></th>\n",
       "      <th></th>\n",
       "      <th></th>\n",
       "    </tr>\n",
       "  </thead>\n",
       "  <tbody>\n",
       "    <tr>\n",
       "      <th>1</th>\n",
       "      <td>0</td>\n",
       "      <td>3</td>\n",
       "      <td>22.0</td>\n",
       "      <td>1</td>\n",
       "      <td>0</td>\n",
       "      <td>7.2500</td>\n",
       "      <td>1</td>\n",
       "      <td>0</td>\n",
       "      <td>1</td>\n",
       "    </tr>\n",
       "    <tr>\n",
       "      <th>2</th>\n",
       "      <td>1</td>\n",
       "      <td>1</td>\n",
       "      <td>38.0</td>\n",
       "      <td>1</td>\n",
       "      <td>0</td>\n",
       "      <td>71.2833</td>\n",
       "      <td>0</td>\n",
       "      <td>0</td>\n",
       "      <td>0</td>\n",
       "    </tr>\n",
       "    <tr>\n",
       "      <th>3</th>\n",
       "      <td>1</td>\n",
       "      <td>3</td>\n",
       "      <td>26.0</td>\n",
       "      <td>0</td>\n",
       "      <td>0</td>\n",
       "      <td>7.9250</td>\n",
       "      <td>0</td>\n",
       "      <td>0</td>\n",
       "      <td>1</td>\n",
       "    </tr>\n",
       "    <tr>\n",
       "      <th>4</th>\n",
       "      <td>1</td>\n",
       "      <td>1</td>\n",
       "      <td>35.0</td>\n",
       "      <td>1</td>\n",
       "      <td>0</td>\n",
       "      <td>53.1000</td>\n",
       "      <td>0</td>\n",
       "      <td>0</td>\n",
       "      <td>1</td>\n",
       "    </tr>\n",
       "    <tr>\n",
       "      <th>5</th>\n",
       "      <td>0</td>\n",
       "      <td>3</td>\n",
       "      <td>35.0</td>\n",
       "      <td>0</td>\n",
       "      <td>0</td>\n",
       "      <td>8.0500</td>\n",
       "      <td>1</td>\n",
       "      <td>0</td>\n",
       "      <td>1</td>\n",
       "    </tr>\n",
       "  </tbody>\n",
       "</table>\n",
       "</div>"
      ],
      "text/plain": [
       "             Survived  Pclass   Age  SibSp  Parch     Fare  male  Q  S\n",
       "PassengerId                                                           \n",
       "1                   0       3  22.0      1      0   7.2500     1  0  1\n",
       "2                   1       1  38.0      1      0  71.2833     0  0  0\n",
       "3                   1       3  26.0      0      0   7.9250     0  0  1\n",
       "4                   1       1  35.0      1      0  53.1000     0  0  1\n",
       "5                   0       3  35.0      0      0   8.0500     1  0  1"
      ]
     },
     "execution_count": 21,
     "metadata": {},
     "output_type": "execute_result"
    }
   ],
   "source": [
    "data.head()"
   ]
  },
  {
   "cell_type": "markdown",
   "metadata": {
    "colab_type": "text",
    "id": "ql2ebxjskKOb"
   },
   "source": []
  },
  {
   "cell_type": "code",
   "execution_count": 22,
   "metadata": {
    "colab": {},
    "colab_type": "code",
    "id": "i0Oryse3qGef"
   },
   "outputs": [
    {
     "name": "stdout",
     "output_type": "stream",
     "text": [
      "<class 'pandas.core.frame.DataFrame'>\n",
      "Int64Index: 889 entries, 1 to 891\n",
      "Data columns (total 9 columns):\n",
      "Survived    889 non-null int64\n",
      "Pclass      889 non-null int64\n",
      "Age         889 non-null float64\n",
      "SibSp       889 non-null int64\n",
      "Parch       889 non-null int64\n",
      "Fare        889 non-null float64\n",
      "male        889 non-null uint8\n",
      "Q           889 non-null uint8\n",
      "S           889 non-null uint8\n",
      "dtypes: float64(2), int64(4), uint8(3)\n",
      "memory usage: 51.2 KB\n"
     ]
    }
   ],
   "source": [
    "data.info()"
   ]
  },
  {
   "cell_type": "code",
   "execution_count": 23,
   "metadata": {
    "colab": {},
    "colab_type": "code",
    "id": "gqp49FYeqGeg"
   },
   "outputs": [
    {
     "data": {
      "text/html": [
       "<div>\n",
       "<style>\n",
       "    .dataframe thead tr:only-child th {\n",
       "        text-align: right;\n",
       "    }\n",
       "\n",
       "    .dataframe thead th {\n",
       "        text-align: left;\n",
       "    }\n",
       "\n",
       "    .dataframe tbody tr th {\n",
       "        vertical-align: top;\n",
       "    }\n",
       "</style>\n",
       "<table border=\"1\" class=\"dataframe\">\n",
       "  <thead>\n",
       "    <tr style=\"text-align: right;\">\n",
       "      <th></th>\n",
       "      <th>Survived</th>\n",
       "      <th>Pclass</th>\n",
       "      <th>Age</th>\n",
       "      <th>SibSp</th>\n",
       "      <th>Parch</th>\n",
       "      <th>Fare</th>\n",
       "      <th>male</th>\n",
       "      <th>Q</th>\n",
       "      <th>S</th>\n",
       "    </tr>\n",
       "  </thead>\n",
       "  <tbody>\n",
       "    <tr>\n",
       "      <th>count</th>\n",
       "      <td>889.000000</td>\n",
       "      <td>889.000000</td>\n",
       "      <td>889.000000</td>\n",
       "      <td>889.000000</td>\n",
       "      <td>889.000000</td>\n",
       "      <td>889.000000</td>\n",
       "      <td>889.000000</td>\n",
       "      <td>889.000000</td>\n",
       "      <td>889.000000</td>\n",
       "    </tr>\n",
       "    <tr>\n",
       "      <th>mean</th>\n",
       "      <td>0.382452</td>\n",
       "      <td>2.311586</td>\n",
       "      <td>29.206040</td>\n",
       "      <td>0.524184</td>\n",
       "      <td>0.382452</td>\n",
       "      <td>32.096681</td>\n",
       "      <td>0.649044</td>\n",
       "      <td>0.086614</td>\n",
       "      <td>0.724409</td>\n",
       "    </tr>\n",
       "    <tr>\n",
       "      <th>std</th>\n",
       "      <td>0.486260</td>\n",
       "      <td>0.834700</td>\n",
       "      <td>13.177747</td>\n",
       "      <td>1.103705</td>\n",
       "      <td>0.806761</td>\n",
       "      <td>49.697504</td>\n",
       "      <td>0.477538</td>\n",
       "      <td>0.281427</td>\n",
       "      <td>0.447063</td>\n",
       "    </tr>\n",
       "    <tr>\n",
       "      <th>min</th>\n",
       "      <td>0.000000</td>\n",
       "      <td>1.000000</td>\n",
       "      <td>0.420000</td>\n",
       "      <td>0.000000</td>\n",
       "      <td>0.000000</td>\n",
       "      <td>0.000000</td>\n",
       "      <td>0.000000</td>\n",
       "      <td>0.000000</td>\n",
       "      <td>0.000000</td>\n",
       "    </tr>\n",
       "    <tr>\n",
       "      <th>25%</th>\n",
       "      <td>0.000000</td>\n",
       "      <td>2.000000</td>\n",
       "      <td>22.000000</td>\n",
       "      <td>0.000000</td>\n",
       "      <td>0.000000</td>\n",
       "      <td>7.895800</td>\n",
       "      <td>0.000000</td>\n",
       "      <td>0.000000</td>\n",
       "      <td>0.000000</td>\n",
       "    </tr>\n",
       "    <tr>\n",
       "      <th>50%</th>\n",
       "      <td>0.000000</td>\n",
       "      <td>3.000000</td>\n",
       "      <td>26.000000</td>\n",
       "      <td>0.000000</td>\n",
       "      <td>0.000000</td>\n",
       "      <td>14.454200</td>\n",
       "      <td>1.000000</td>\n",
       "      <td>0.000000</td>\n",
       "      <td>1.000000</td>\n",
       "    </tr>\n",
       "    <tr>\n",
       "      <th>75%</th>\n",
       "      <td>1.000000</td>\n",
       "      <td>3.000000</td>\n",
       "      <td>36.500000</td>\n",
       "      <td>1.000000</td>\n",
       "      <td>0.000000</td>\n",
       "      <td>31.000000</td>\n",
       "      <td>1.000000</td>\n",
       "      <td>0.000000</td>\n",
       "      <td>1.000000</td>\n",
       "    </tr>\n",
       "    <tr>\n",
       "      <th>max</th>\n",
       "      <td>1.000000</td>\n",
       "      <td>3.000000</td>\n",
       "      <td>80.000000</td>\n",
       "      <td>8.000000</td>\n",
       "      <td>6.000000</td>\n",
       "      <td>512.329200</td>\n",
       "      <td>1.000000</td>\n",
       "      <td>1.000000</td>\n",
       "      <td>1.000000</td>\n",
       "    </tr>\n",
       "  </tbody>\n",
       "</table>\n",
       "</div>"
      ],
      "text/plain": [
       "         Survived      Pclass         Age       SibSp       Parch        Fare  \\\n",
       "count  889.000000  889.000000  889.000000  889.000000  889.000000  889.000000   \n",
       "mean     0.382452    2.311586   29.206040    0.524184    0.382452   32.096681   \n",
       "std      0.486260    0.834700   13.177747    1.103705    0.806761   49.697504   \n",
       "min      0.000000    1.000000    0.420000    0.000000    0.000000    0.000000   \n",
       "25%      0.000000    2.000000   22.000000    0.000000    0.000000    7.895800   \n",
       "50%      0.000000    3.000000   26.000000    0.000000    0.000000   14.454200   \n",
       "75%      1.000000    3.000000   36.500000    1.000000    0.000000   31.000000   \n",
       "max      1.000000    3.000000   80.000000    8.000000    6.000000  512.329200   \n",
       "\n",
       "             male           Q           S  \n",
       "count  889.000000  889.000000  889.000000  \n",
       "mean     0.649044    0.086614    0.724409  \n",
       "std      0.477538    0.281427    0.447063  \n",
       "min      0.000000    0.000000    0.000000  \n",
       "25%      0.000000    0.000000    0.000000  \n",
       "50%      1.000000    0.000000    1.000000  \n",
       "75%      1.000000    0.000000    1.000000  \n",
       "max      1.000000    1.000000    1.000000  "
      ]
     },
     "execution_count": 23,
     "metadata": {},
     "output_type": "execute_result"
    }
   ],
   "source": [
    "data.describe()"
   ]
  },
  {
   "cell_type": "markdown",
   "metadata": {
    "colab_type": "text",
    "id": "jxlMr97iqGei"
   },
   "source": [
    "# Step - 5 : Model Selection"
   ]
  },
  {
   "cell_type": "code",
   "execution_count": 24,
   "metadata": {
    "colab": {},
    "colab_type": "code",
    "id": "sBEz-1z8qjTQ"
   },
   "outputs": [],
   "source": [
    "Target = 'Survived'\n",
    "X = data.drop(Target,axis=1)\n",
    "y = data[Target]"
   ]
  },
  {
   "cell_type": "code",
   "execution_count": 25,
   "metadata": {
    "colab": {},
    "colab_type": "code",
    "id": "bkzudQ4fqNzA"
   },
   "outputs": [],
   "source": [
    "from sklearn.metrics import confusion_matrix, precision_score, recall_score,accuracy_score, f1_score\n",
    "\n",
    "from sklearn.model_selection import train_test_split\n",
    "\n",
    "X_train, X_test, y_train, y_test = train_test_split(X, y, test_size = 0.2, random_state = 0)\n"
   ]
  },
  {
   "cell_type": "code",
   "execution_count": 26,
   "metadata": {
    "colab": {},
    "colab_type": "code",
    "id": "080wAcXB4788"
   },
   "outputs": [
    {
     "data": {
      "text/html": [
       "<div>\n",
       "<style>\n",
       "    .dataframe thead tr:only-child th {\n",
       "        text-align: right;\n",
       "    }\n",
       "\n",
       "    .dataframe thead th {\n",
       "        text-align: left;\n",
       "    }\n",
       "\n",
       "    .dataframe tbody tr th {\n",
       "        vertical-align: top;\n",
       "    }\n",
       "</style>\n",
       "<table border=\"1\" class=\"dataframe\">\n",
       "  <thead>\n",
       "    <tr style=\"text-align: right;\">\n",
       "      <th></th>\n",
       "      <th>Pclass</th>\n",
       "      <th>Age</th>\n",
       "      <th>SibSp</th>\n",
       "      <th>Parch</th>\n",
       "      <th>Fare</th>\n",
       "      <th>male</th>\n",
       "      <th>Q</th>\n",
       "      <th>S</th>\n",
       "    </tr>\n",
       "  </thead>\n",
       "  <tbody>\n",
       "    <tr>\n",
       "      <th>count</th>\n",
       "      <td>711.000000</td>\n",
       "      <td>711.000000</td>\n",
       "      <td>711.000000</td>\n",
       "      <td>711.000000</td>\n",
       "      <td>711.000000</td>\n",
       "      <td>711.000000</td>\n",
       "      <td>711.000000</td>\n",
       "      <td>711.000000</td>\n",
       "    </tr>\n",
       "    <tr>\n",
       "      <th>mean</th>\n",
       "      <td>2.320675</td>\n",
       "      <td>29.040211</td>\n",
       "      <td>0.527426</td>\n",
       "      <td>0.379747</td>\n",
       "      <td>32.102818</td>\n",
       "      <td>0.649789</td>\n",
       "      <td>0.085795</td>\n",
       "      <td>0.720113</td>\n",
       "    </tr>\n",
       "    <tr>\n",
       "      <th>std</th>\n",
       "      <td>0.829802</td>\n",
       "      <td>13.350864</td>\n",
       "      <td>1.093653</td>\n",
       "      <td>0.820055</td>\n",
       "      <td>51.872981</td>\n",
       "      <td>0.477372</td>\n",
       "      <td>0.280258</td>\n",
       "      <td>0.449260</td>\n",
       "    </tr>\n",
       "    <tr>\n",
       "      <th>min</th>\n",
       "      <td>1.000000</td>\n",
       "      <td>0.420000</td>\n",
       "      <td>0.000000</td>\n",
       "      <td>0.000000</td>\n",
       "      <td>0.000000</td>\n",
       "      <td>0.000000</td>\n",
       "      <td>0.000000</td>\n",
       "      <td>0.000000</td>\n",
       "    </tr>\n",
       "    <tr>\n",
       "      <th>25%</th>\n",
       "      <td>2.000000</td>\n",
       "      <td>22.000000</td>\n",
       "      <td>0.000000</td>\n",
       "      <td>0.000000</td>\n",
       "      <td>7.910400</td>\n",
       "      <td>0.000000</td>\n",
       "      <td>0.000000</td>\n",
       "      <td>0.000000</td>\n",
       "    </tr>\n",
       "    <tr>\n",
       "      <th>50%</th>\n",
       "      <td>3.000000</td>\n",
       "      <td>25.000000</td>\n",
       "      <td>0.000000</td>\n",
       "      <td>0.000000</td>\n",
       "      <td>14.454200</td>\n",
       "      <td>1.000000</td>\n",
       "      <td>0.000000</td>\n",
       "      <td>1.000000</td>\n",
       "    </tr>\n",
       "    <tr>\n",
       "      <th>75%</th>\n",
       "      <td>3.000000</td>\n",
       "      <td>36.000000</td>\n",
       "      <td>1.000000</td>\n",
       "      <td>0.000000</td>\n",
       "      <td>30.500000</td>\n",
       "      <td>1.000000</td>\n",
       "      <td>0.000000</td>\n",
       "      <td>1.000000</td>\n",
       "    </tr>\n",
       "    <tr>\n",
       "      <th>max</th>\n",
       "      <td>3.000000</td>\n",
       "      <td>80.000000</td>\n",
       "      <td>8.000000</td>\n",
       "      <td>6.000000</td>\n",
       "      <td>512.329200</td>\n",
       "      <td>1.000000</td>\n",
       "      <td>1.000000</td>\n",
       "      <td>1.000000</td>\n",
       "    </tr>\n",
       "  </tbody>\n",
       "</table>\n",
       "</div>"
      ],
      "text/plain": [
       "           Pclass         Age       SibSp       Parch        Fare        male  \\\n",
       "count  711.000000  711.000000  711.000000  711.000000  711.000000  711.000000   \n",
       "mean     2.320675   29.040211    0.527426    0.379747   32.102818    0.649789   \n",
       "std      0.829802   13.350864    1.093653    0.820055   51.872981    0.477372   \n",
       "min      1.000000    0.420000    0.000000    0.000000    0.000000    0.000000   \n",
       "25%      2.000000   22.000000    0.000000    0.000000    7.910400    0.000000   \n",
       "50%      3.000000   25.000000    0.000000    0.000000   14.454200    1.000000   \n",
       "75%      3.000000   36.000000    1.000000    0.000000   30.500000    1.000000   \n",
       "max      3.000000   80.000000    8.000000    6.000000  512.329200    1.000000   \n",
       "\n",
       "                Q           S  \n",
       "count  711.000000  711.000000  \n",
       "mean     0.085795    0.720113  \n",
       "std      0.280258    0.449260  \n",
       "min      0.000000    0.000000  \n",
       "25%      0.000000    0.000000  \n",
       "50%      0.000000    1.000000  \n",
       "75%      0.000000    1.000000  \n",
       "max      1.000000    1.000000  "
      ]
     },
     "execution_count": 26,
     "metadata": {},
     "output_type": "execute_result"
    }
   ],
   "source": [
    "X_train.describe()"
   ]
  },
  {
   "cell_type": "markdown",
   "metadata": {
    "colab_type": "text",
    "id": "0nmL8NuS3GVb"
   },
   "source": [
    "**Standard Scaling**: Standardize features by removing the mean and scaling to unit variance  \n",
    "Similar to normalization but changes the mean to be 0 and std dev = 1 (create bell curve for all data)  \n",
    "[Standard Scaling SK Learn](https://scikit-learn.org/stable/modules/generated/sklearn.preprocessing.StandardScaler.html)"
   ]
  },
  {
   "cell_type": "code",
   "execution_count": 27,
   "metadata": {
    "colab": {},
    "colab_type": "code",
    "id": "fqIyEAPyumnk"
   },
   "outputs": [],
   "source": [
    "from sklearn.preprocessing import StandardScaler\n",
    "sc = StandardScaler()\n",
    "sc.fit(X_train)\n",
    "X_train = sc.transform(X_train)"
   ]
  },
  {
   "cell_type": "code",
   "execution_count": 28,
   "metadata": {
    "colab": {},
    "colab_type": "code",
    "id": "GIJAa3bT5Avj"
   },
   "outputs": [
    {
     "data": {
      "text/html": [
       "<div>\n",
       "<style>\n",
       "    .dataframe thead tr:only-child th {\n",
       "        text-align: right;\n",
       "    }\n",
       "\n",
       "    .dataframe thead th {\n",
       "        text-align: left;\n",
       "    }\n",
       "\n",
       "    .dataframe tbody tr th {\n",
       "        vertical-align: top;\n",
       "    }\n",
       "</style>\n",
       "<table border=\"1\" class=\"dataframe\">\n",
       "  <thead>\n",
       "    <tr style=\"text-align: right;\">\n",
       "      <th></th>\n",
       "      <th>0</th>\n",
       "      <th>1</th>\n",
       "      <th>2</th>\n",
       "      <th>3</th>\n",
       "      <th>4</th>\n",
       "      <th>5</th>\n",
       "      <th>6</th>\n",
       "      <th>7</th>\n",
       "    </tr>\n",
       "  </thead>\n",
       "  <tbody>\n",
       "    <tr>\n",
       "      <th>count</th>\n",
       "      <td>7.110000e+02</td>\n",
       "      <td>7.110000e+02</td>\n",
       "      <td>7.110000e+02</td>\n",
       "      <td>7.110000e+02</td>\n",
       "      <td>7.110000e+02</td>\n",
       "      <td>7.110000e+02</td>\n",
       "      <td>7.110000e+02</td>\n",
       "      <td>7.110000e+02</td>\n",
       "    </tr>\n",
       "    <tr>\n",
       "      <th>mean</th>\n",
       "      <td>-6.870578e-17</td>\n",
       "      <td>8.978597e-17</td>\n",
       "      <td>4.591576e-16</td>\n",
       "      <td>1.826949e-16</td>\n",
       "      <td>5.664324e-17</td>\n",
       "      <td>1.052448e-16</td>\n",
       "      <td>2.005740e-16</td>\n",
       "      <td>-2.492146e-16</td>\n",
       "    </tr>\n",
       "    <tr>\n",
       "      <th>std</th>\n",
       "      <td>1.000704e+00</td>\n",
       "      <td>1.000704e+00</td>\n",
       "      <td>1.000704e+00</td>\n",
       "      <td>1.000704e+00</td>\n",
       "      <td>1.000704e+00</td>\n",
       "      <td>1.000704e+00</td>\n",
       "      <td>1.000704e+00</td>\n",
       "      <td>1.000704e+00</td>\n",
       "    </tr>\n",
       "    <tr>\n",
       "      <th>min</th>\n",
       "      <td>-1.592674e+00</td>\n",
       "      <td>-2.145206e+00</td>\n",
       "      <td>-4.826003e-01</td>\n",
       "      <td>-4.634007e-01</td>\n",
       "      <td>-6.193093e-01</td>\n",
       "      <td>-1.362139e+00</td>\n",
       "      <td>-3.063432e-01</td>\n",
       "      <td>-1.604015e+00</td>\n",
       "    </tr>\n",
       "    <tr>\n",
       "      <th>25%</th>\n",
       "      <td>-3.867196e-01</td>\n",
       "      <td>-5.276937e-01</td>\n",
       "      <td>-4.826003e-01</td>\n",
       "      <td>-4.634007e-01</td>\n",
       "      <td>-4.667063e-01</td>\n",
       "      <td>-1.362139e+00</td>\n",
       "      <td>-3.063432e-01</td>\n",
       "      <td>-1.604015e+00</td>\n",
       "    </tr>\n",
       "    <tr>\n",
       "      <th>50%</th>\n",
       "      <td>8.192350e-01</td>\n",
       "      <td>-3.028310e-01</td>\n",
       "      <td>-4.826003e-01</td>\n",
       "      <td>-4.634007e-01</td>\n",
       "      <td>-3.404671e-01</td>\n",
       "      <td>7.341397e-01</td>\n",
       "      <td>-3.063432e-01</td>\n",
       "      <td>6.234355e-01</td>\n",
       "    </tr>\n",
       "    <tr>\n",
       "      <th>75%</th>\n",
       "      <td>8.192350e-01</td>\n",
       "      <td>5.216658e-01</td>\n",
       "      <td>4.324099e-01</td>\n",
       "      <td>-4.634007e-01</td>\n",
       "      <td>-3.092065e-02</td>\n",
       "      <td>7.341397e-01</td>\n",
       "      <td>-3.063432e-01</td>\n",
       "      <td>6.234355e-01</td>\n",
       "    </tr>\n",
       "    <tr>\n",
       "      <th>max</th>\n",
       "      <td>8.192350e-01</td>\n",
       "      <td>3.819653e+00</td>\n",
       "      <td>6.837481e+00</td>\n",
       "      <td>6.858330e+00</td>\n",
       "      <td>9.264254e+00</td>\n",
       "      <td>7.341397e-01</td>\n",
       "      <td>3.264313e+00</td>\n",
       "      <td>6.234355e-01</td>\n",
       "    </tr>\n",
       "  </tbody>\n",
       "</table>\n",
       "</div>"
      ],
      "text/plain": [
       "                  0             1             2             3             4  \\\n",
       "count  7.110000e+02  7.110000e+02  7.110000e+02  7.110000e+02  7.110000e+02   \n",
       "mean  -6.870578e-17  8.978597e-17  4.591576e-16  1.826949e-16  5.664324e-17   \n",
       "std    1.000704e+00  1.000704e+00  1.000704e+00  1.000704e+00  1.000704e+00   \n",
       "min   -1.592674e+00 -2.145206e+00 -4.826003e-01 -4.634007e-01 -6.193093e-01   \n",
       "25%   -3.867196e-01 -5.276937e-01 -4.826003e-01 -4.634007e-01 -4.667063e-01   \n",
       "50%    8.192350e-01 -3.028310e-01 -4.826003e-01 -4.634007e-01 -3.404671e-01   \n",
       "75%    8.192350e-01  5.216658e-01  4.324099e-01 -4.634007e-01 -3.092065e-02   \n",
       "max    8.192350e-01  3.819653e+00  6.837481e+00  6.858330e+00  9.264254e+00   \n",
       "\n",
       "                  5             6             7  \n",
       "count  7.110000e+02  7.110000e+02  7.110000e+02  \n",
       "mean   1.052448e-16  2.005740e-16 -2.492146e-16  \n",
       "std    1.000704e+00  1.000704e+00  1.000704e+00  \n",
       "min   -1.362139e+00 -3.063432e-01 -1.604015e+00  \n",
       "25%   -1.362139e+00 -3.063432e-01 -1.604015e+00  \n",
       "50%    7.341397e-01 -3.063432e-01  6.234355e-01  \n",
       "75%    7.341397e-01 -3.063432e-01  6.234355e-01  \n",
       "max    7.341397e-01  3.264313e+00  6.234355e-01  "
      ]
     },
     "execution_count": 28,
     "metadata": {},
     "output_type": "execute_result"
    }
   ],
   "source": [
    "X_train = pd.DataFrame(X_train)\n",
    "X_train.describe()"
   ]
  },
  {
   "cell_type": "markdown",
   "metadata": {
    "colab_type": "text",
    "id": "oklvlL5M5R-8"
   },
   "source": [
    "Notice that mean = 0 and std = 1 (when rounded)"
   ]
  },
  {
   "cell_type": "code",
   "execution_count": 29,
   "metadata": {
    "colab": {},
    "colab_type": "code",
    "id": "KklWTJTCvMQd"
   },
   "outputs": [],
   "source": [
    "X_test = sc.transform(X_test) # uses the scaling factors used in X_train above. So only transform must be done. No Fitting"
   ]
  },
  {
   "cell_type": "code",
   "execution_count": 30,
   "metadata": {
    "colab": {},
    "colab_type": "code",
    "id": "St8sHyHISekz"
   },
   "outputs": [
    {
     "data": {
      "text/plain": [
       "pandas.core.frame.DataFrame"
      ]
     },
     "execution_count": 30,
     "metadata": {},
     "output_type": "execute_result"
    }
   ],
   "source": [
    "type(X_train)"
   ]
  },
  {
   "cell_type": "markdown",
   "metadata": {
    "colab_type": "text",
    "id": "teEsLaV-vZ5t"
   },
   "source": [
    "# Now lets make ANN"
   ]
  },
  {
   "cell_type": "markdown",
   "metadata": {},
   "source": [
    "#### For Jupyter Notebook, make sure Keras and TensorFlow is installed first\n",
    "- [Keras Installation Instructions](https://keras.io/#installation)  \n",
    "- [Tensorflow Installation Instructions](https://www.tensorflow.org/install)"
   ]
  },
  {
   "cell_type": "code",
   "execution_count": 31,
   "metadata": {},
   "outputs": [
    {
     "data": {
      "text/plain": [
       "'1.16.3'"
      ]
     },
     "execution_count": 31,
     "metadata": {},
     "output_type": "execute_result"
    }
   ],
   "source": [
    "import numpy as np\n",
    "np.__version__"
   ]
  },
  {
   "cell_type": "code",
   "execution_count": 32,
   "metadata": {
    "colab": {},
    "colab_type": "code",
    "id": "b3JHXAWS9er1"
   },
   "outputs": [
    {
     "name": "stderr",
     "output_type": "stream",
     "text": [
      "/anaconda3/lib/python3.6/site-packages/h5py/__init__.py:34: FutureWarning: Conversion of the second argument of issubdtype from `float` to `np.floating` is deprecated. In future, it will be treated as `np.float64 == np.dtype(float).type`.\n",
      "  from ._conv import register_converters as _register_converters\n",
      "Using TensorFlow backend.\n"
     ]
    }
   ],
   "source": [
    "# Importing the Keras libraries and packages\n",
    "import keras\n",
    "from keras.models import Sequential\n",
    "from keras.layers import Dense"
   ]
  },
  {
   "cell_type": "code",
   "execution_count": 33,
   "metadata": {
    "colab": {},
    "colab_type": "code",
    "id": "1JJxr0-j9er3"
   },
   "outputs": [],
   "source": [
    "# Initializing the ANN\n",
    "classifier = Sequential()"
   ]
  },
  {
   "cell_type": "code",
   "execution_count": 34,
   "metadata": {
    "colab": {},
    "colab_type": "code",
    "id": "tsIvFEbmoZ54"
   },
   "outputs": [
    {
     "data": {
      "text/plain": [
       "(711, 8)"
      ]
     },
     "execution_count": 34,
     "metadata": {},
     "output_type": "execute_result"
    }
   ],
   "source": [
    "X_train.shape"
   ]
  },
  {
   "cell_type": "code",
   "execution_count": 35,
   "metadata": {
    "colab": {},
    "colab_type": "code",
    "id": "5no6jyLd9er6"
   },
   "outputs": [
    {
     "name": "stdout",
     "output_type": "stream",
     "text": [
      "WARNING:tensorflow:From /anaconda3/lib/python3.6/site-packages/tensorflow/python/framework/op_def_library.py:263: colocate_with (from tensorflow.python.framework.ops) is deprecated and will be removed in a future version.\n",
      "Instructions for updating:\n",
      "Colocations handled automatically by placer.\n"
     ]
    }
   ],
   "source": [
    "# Adding the input layer and the first hidden layer\n",
    "classifier.add(Dense(units = 9, kernel_initializer = 'uniform', \n",
    "                     activation = 'relu', input_dim = X_train.shape[1]))"
   ]
  },
  {
   "cell_type": "markdown",
   "metadata": {
    "colab_type": "text",
    "id": "R_o2y-Cb562F"
   },
   "source": [
    "**ACTIVATION FUNCTIONS**\n",
    "\n",
    "- relu = filters out negative values (Usually a very effective activation function)\n",
    "- sigmoid = between 0 and 1.  Provides the probability of survival for titanic passengers\n",
    "- accuracy = ??"
   ]
  },
  {
   "cell_type": "code",
   "execution_count": 36,
   "metadata": {
    "colab": {},
    "colab_type": "code",
    "id": "BlguGZFL9er8"
   },
   "outputs": [],
   "source": [
    "# Adding the second hidden layer\n",
    "classifier.add(Dense(units = 10, kernel_initializer = 'uniform', activation = 'relu'))"
   ]
  },
  {
   "cell_type": "code",
   "execution_count": 37,
   "metadata": {
    "colab": {},
    "colab_type": "code",
    "id": "OdeVJ6Y6lMYM"
   },
   "outputs": [],
   "source": [
    "# Adding the third hidden layer\n",
    "classifier.add(Dense(units = 8, kernel_initializer = 'uniform', activation = 'relu'))"
   ]
  },
  {
   "cell_type": "code",
   "execution_count": 38,
   "metadata": {
    "colab": {},
    "colab_type": "code",
    "id": "MJQLH2qY9er-"
   },
   "outputs": [],
   "source": [
    "# Adding the output layer\n",
    "classifier.add(Dense(units = 1, kernel_initializer = 'uniform', activation = 'sigmoid'))"
   ]
  },
  {
   "cell_type": "code",
   "execution_count": 39,
   "metadata": {
    "colab": {},
    "colab_type": "code",
    "id": "2E54g9wv9esA"
   },
   "outputs": [],
   "source": [
    "# Compiling the ANN\n",
    "classifier.compile(optimizer = 'adam', loss = 'binary_crossentropy', metrics = ['accuracy'])"
   ]
  },
  {
   "cell_type": "code",
   "execution_count": 40,
   "metadata": {
    "colab": {},
    "colab_type": "code",
    "id": "BccIWLy9uXfm"
   },
   "outputs": [
    {
     "name": "stdout",
     "output_type": "stream",
     "text": [
      "_________________________________________________________________\n",
      "Layer (type)                 Output Shape              Param #   \n",
      "=================================================================\n",
      "dense_1 (Dense)              (None, 9)                 81        \n",
      "_________________________________________________________________\n",
      "dense_2 (Dense)              (None, 10)                100       \n",
      "_________________________________________________________________\n",
      "dense_3 (Dense)              (None, 8)                 88        \n",
      "_________________________________________________________________\n",
      "dense_4 (Dense)              (None, 1)                 9         \n",
      "=================================================================\n",
      "Total params: 278\n",
      "Trainable params: 278\n",
      "Non-trainable params: 0\n",
      "_________________________________________________________________\n"
     ]
    }
   ],
   "source": [
    "classifier.summary()"
   ]
  },
  {
   "cell_type": "code",
   "execution_count": 41,
   "metadata": {
    "colab": {},
    "colab_type": "code",
    "id": "buc2xOvk9esC"
   },
   "outputs": [
    {
     "name": "stdout",
     "output_type": "stream",
     "text": [
      "WARNING:tensorflow:From /anaconda3/lib/python3.6/site-packages/tensorflow/python/ops/math_ops.py:3066: to_int32 (from tensorflow.python.ops.math_ops) is deprecated and will be removed in a future version.\n",
      "Instructions for updating:\n",
      "Use tf.cast instead.\n",
      "Epoch 1/200\n",
      "711/711 [==============================] - 0s 542us/step - loss: 0.6931 - acc: 0.5485\n",
      "Epoch 2/200\n",
      "711/711 [==============================] - 0s 10us/step - loss: 0.6928 - acc: 0.6245\n",
      "Epoch 3/200\n",
      "711/711 [==============================] - 0s 10us/step - loss: 0.6926 - acc: 0.6245\n",
      "Epoch 4/200\n",
      "711/711 [==============================] - 0s 9us/step - loss: 0.6923 - acc: 0.6245\n",
      "Epoch 5/200\n",
      "711/711 [==============================] - 0s 10us/step - loss: 0.6921 - acc: 0.6245\n",
      "Epoch 6/200\n",
      "711/711 [==============================] - 0s 9us/step - loss: 0.6918 - acc: 0.6245\n",
      "Epoch 7/200\n",
      "711/711 [==============================] - 0s 13us/step - loss: 0.6915 - acc: 0.6245\n",
      "Epoch 8/200\n",
      "711/711 [==============================] - 0s 19us/step - loss: 0.6913 - acc: 0.6245\n",
      "Epoch 9/200\n",
      "711/711 [==============================] - 0s 12us/step - loss: 0.6910 - acc: 0.6245\n",
      "Epoch 10/200\n",
      "711/711 [==============================] - 0s 9us/step - loss: 0.6907 - acc: 0.6245\n",
      "Epoch 11/200\n",
      "711/711 [==============================] - 0s 10us/step - loss: 0.6904 - acc: 0.6245\n",
      "Epoch 12/200\n",
      "711/711 [==============================] - 0s 10us/step - loss: 0.6902 - acc: 0.6245\n",
      "Epoch 13/200\n",
      "711/711 [==============================] - 0s 10us/step - loss: 0.6899 - acc: 0.6245\n",
      "Epoch 14/200\n",
      "711/711 [==============================] - 0s 10us/step - loss: 0.6896 - acc: 0.6245\n",
      "Epoch 15/200\n",
      "711/711 [==============================] - 0s 9us/step - loss: 0.6893 - acc: 0.6245\n",
      "Epoch 16/200\n",
      "711/711 [==============================] - 0s 9us/step - loss: 0.6890 - acc: 0.6245\n",
      "Epoch 17/200\n",
      "711/711 [==============================] - 0s 10us/step - loss: 0.6886 - acc: 0.6245\n",
      "Epoch 18/200\n",
      "711/711 [==============================] - 0s 9us/step - loss: 0.6883 - acc: 0.6245\n",
      "Epoch 19/200\n",
      "711/711 [==============================] - 0s 21us/step - loss: 0.6879 - acc: 0.6245\n",
      "Epoch 20/200\n",
      "711/711 [==============================] - 0s 13us/step - loss: 0.6875 - acc: 0.6245\n",
      "Epoch 21/200\n",
      "711/711 [==============================] - 0s 14us/step - loss: 0.6871 - acc: 0.6245\n",
      "Epoch 22/200\n",
      "711/711 [==============================] - 0s 13us/step - loss: 0.6867 - acc: 0.6245\n",
      "Epoch 23/200\n",
      "711/711 [==============================] - 0s 12us/step - loss: 0.6862 - acc: 0.6245\n",
      "Epoch 24/200\n",
      "711/711 [==============================] - 0s 10us/step - loss: 0.6856 - acc: 0.6245\n",
      "Epoch 25/200\n",
      "711/711 [==============================] - 0s 9us/step - loss: 0.6851 - acc: 0.6245\n",
      "Epoch 26/200\n",
      "711/711 [==============================] - 0s 11us/step - loss: 0.6845 - acc: 0.6245\n",
      "Epoch 27/200\n",
      "711/711 [==============================] - 0s 8us/step - loss: 0.6838 - acc: 0.6245\n",
      "Epoch 28/200\n",
      "711/711 [==============================] - 0s 9us/step - loss: 0.6831 - acc: 0.6245\n",
      "Epoch 29/200\n",
      "711/711 [==============================] - 0s 10us/step - loss: 0.6823 - acc: 0.6245\n",
      "Epoch 30/200\n",
      "711/711 [==============================] - 0s 12us/step - loss: 0.6815 - acc: 0.6245\n",
      "Epoch 31/200\n",
      "711/711 [==============================] - 0s 10us/step - loss: 0.6805 - acc: 0.6245\n",
      "Epoch 32/200\n",
      "711/711 [==============================] - 0s 30us/step - loss: 0.6795 - acc: 0.6245\n",
      "Epoch 33/200\n",
      "711/711 [==============================] - 0s 15us/step - loss: 0.6784 - acc: 0.6245\n",
      "Epoch 34/200\n",
      "711/711 [==============================] - 0s 16us/step - loss: 0.6772 - acc: 0.6245\n",
      "Epoch 35/200\n",
      "711/711 [==============================] - 0s 11us/step - loss: 0.6759 - acc: 0.6245\n",
      "Epoch 36/200\n",
      "711/711 [==============================] - 0s 10us/step - loss: 0.6745 - acc: 0.6245\n",
      "Epoch 37/200\n",
      "711/711 [==============================] - 0s 10us/step - loss: 0.6729 - acc: 0.6245\n",
      "Epoch 38/200\n",
      "711/711 [==============================] - 0s 10us/step - loss: 0.6713 - acc: 0.6245\n",
      "Epoch 39/200\n",
      "711/711 [==============================] - 0s 11us/step - loss: 0.6694 - acc: 0.6245\n",
      "Epoch 40/200\n",
      "711/711 [==============================] - 0s 9us/step - loss: 0.6675 - acc: 0.6245\n",
      "Epoch 41/200\n",
      "711/711 [==============================] - 0s 11us/step - loss: 0.6653 - acc: 0.6245\n",
      "Epoch 42/200\n",
      "711/711 [==============================] - 0s 8us/step - loss: 0.6631 - acc: 0.6259\n",
      "Epoch 43/200\n",
      "711/711 [==============================] - 0s 10us/step - loss: 0.6606 - acc: 0.6273\n",
      "Epoch 44/200\n",
      "711/711 [==============================] - 0s 10us/step - loss: 0.6580 - acc: 0.6315\n",
      "Epoch 45/200\n",
      "711/711 [==============================] - 0s 9us/step - loss: 0.6551 - acc: 0.6371\n",
      "Epoch 46/200\n",
      "711/711 [==============================] - 0s 9us/step - loss: 0.6520 - acc: 0.6456\n",
      "Epoch 47/200\n",
      "711/711 [==============================] - 0s 10us/step - loss: 0.6488 - acc: 0.6667\n",
      "Epoch 48/200\n",
      "711/711 [==============================] - 0s 10us/step - loss: 0.6453 - acc: 0.6878\n",
      "Epoch 49/200\n",
      "711/711 [==============================] - 0s 8us/step - loss: 0.6416 - acc: 0.7032\n",
      "Epoch 50/200\n",
      "711/711 [==============================] - 0s 9us/step - loss: 0.6377 - acc: 0.7300\n",
      "Epoch 51/200\n",
      "711/711 [==============================] - 0s 8us/step - loss: 0.6336 - acc: 0.7553\n",
      "Epoch 52/200\n",
      "711/711 [==============================] - 0s 8us/step - loss: 0.6291 - acc: 0.7722\n",
      "Epoch 53/200\n",
      "711/711 [==============================] - 0s 18us/step - loss: 0.6246 - acc: 0.7961\n",
      "Epoch 54/200\n",
      "711/711 [==============================] - 0s 12us/step - loss: 0.6197 - acc: 0.8073\n",
      "Epoch 55/200\n",
      "711/711 [==============================] - 0s 10us/step - loss: 0.6146 - acc: 0.8186\n",
      "Epoch 56/200\n",
      "711/711 [==============================] - 0s 12us/step - loss: 0.6093 - acc: 0.8214\n",
      "Epoch 57/200\n",
      "711/711 [==============================] - 0s 9us/step - loss: 0.6037 - acc: 0.8228\n",
      "Epoch 58/200\n",
      "711/711 [==============================] - 0s 13us/step - loss: 0.5980 - acc: 0.8228\n",
      "Epoch 59/200\n",
      "711/711 [==============================] - 0s 8us/step - loss: 0.5922 - acc: 0.8270\n",
      "Epoch 60/200\n",
      "711/711 [==============================] - 0s 10us/step - loss: 0.5860 - acc: 0.8256\n",
      "Epoch 61/200\n",
      "711/711 [==============================] - 0s 10us/step - loss: 0.5798 - acc: 0.8256\n",
      "Epoch 62/200\n",
      "711/711 [==============================] - 0s 9us/step - loss: 0.5735 - acc: 0.8242\n",
      "Epoch 63/200\n",
      "711/711 [==============================] - 0s 10us/step - loss: 0.5668 - acc: 0.8228\n",
      "Epoch 64/200\n",
      "711/711 [==============================] - 0s 9us/step - loss: 0.5601 - acc: 0.8256\n",
      "Epoch 65/200\n",
      "711/711 [==============================] - 0s 11us/step - loss: 0.5533 - acc: 0.8256\n",
      "Epoch 66/200\n",
      "711/711 [==============================] - 0s 12us/step - loss: 0.5467 - acc: 0.8284\n",
      "Epoch 67/200\n",
      "711/711 [==============================] - 0s 20us/step - loss: 0.5397 - acc: 0.8242\n",
      "Epoch 68/200\n",
      "711/711 [==============================] - 0s 14us/step - loss: 0.5329 - acc: 0.8256\n",
      "Epoch 69/200\n",
      "711/711 [==============================] - 0s 9us/step - loss: 0.5262 - acc: 0.8256\n",
      "Epoch 70/200\n",
      "711/711 [==============================] - 0s 14us/step - loss: 0.5193 - acc: 0.8298\n",
      "Epoch 71/200\n",
      "711/711 [==============================] - 0s 10us/step - loss: 0.5127 - acc: 0.8298\n",
      "Epoch 72/200\n",
      "711/711 [==============================] - 0s 10us/step - loss: 0.5062 - acc: 0.8298\n",
      "Epoch 73/200\n",
      "711/711 [==============================] - 0s 9us/step - loss: 0.4995 - acc: 0.8298\n",
      "Epoch 74/200\n",
      "711/711 [==============================] - 0s 10us/step - loss: 0.4934 - acc: 0.8298\n",
      "Epoch 75/200\n",
      "711/711 [==============================] - 0s 12us/step - loss: 0.4872 - acc: 0.8284\n",
      "Epoch 76/200\n",
      "711/711 [==============================] - 0s 10us/step - loss: 0.4814 - acc: 0.8298\n",
      "Epoch 77/200\n",
      "711/711 [==============================] - 0s 11us/step - loss: 0.4756 - acc: 0.8326\n",
      "Epoch 78/200\n",
      "711/711 [==============================] - 0s 11us/step - loss: 0.4702 - acc: 0.8312\n",
      "Epoch 79/200\n",
      "711/711 [==============================] - 0s 9us/step - loss: 0.4651 - acc: 0.8298\n",
      "Epoch 80/200\n",
      "711/711 [==============================] - 0s 10us/step - loss: 0.4602 - acc: 0.8284\n",
      "Epoch 81/200\n",
      "711/711 [==============================] - 0s 9us/step - loss: 0.4555 - acc: 0.8312\n",
      "Epoch 82/200\n",
      "711/711 [==============================] - 0s 9us/step - loss: 0.4512 - acc: 0.8326\n",
      "Epoch 83/200\n",
      "711/711 [==============================] - 0s 10us/step - loss: 0.4470 - acc: 0.8354\n",
      "Epoch 84/200\n",
      "711/711 [==============================] - 0s 11us/step - loss: 0.4429 - acc: 0.8326\n",
      "Epoch 85/200\n",
      "711/711 [==============================] - 0s 11us/step - loss: 0.4393 - acc: 0.8326\n",
      "Epoch 86/200\n",
      "711/711 [==============================] - 0s 15us/step - loss: 0.4362 - acc: 0.8354\n",
      "Epoch 87/200\n",
      "711/711 [==============================] - 0s 13us/step - loss: 0.4327 - acc: 0.8340\n",
      "Epoch 88/200\n",
      "711/711 [==============================] - 0s 14us/step - loss: 0.4296 - acc: 0.8326\n",
      "Epoch 89/200\n",
      "711/711 [==============================] - 0s 13us/step - loss: 0.4269 - acc: 0.8383\n",
      "Epoch 90/200\n",
      "711/711 [==============================] - 0s 12us/step - loss: 0.4244 - acc: 0.8383\n",
      "Epoch 91/200\n",
      "711/711 [==============================] - 0s 12us/step - loss: 0.4221 - acc: 0.8397\n",
      "Epoch 92/200\n",
      "711/711 [==============================] - 0s 14us/step - loss: 0.4197 - acc: 0.8368\n",
      "Epoch 93/200\n",
      "711/711 [==============================] - 0s 12us/step - loss: 0.4177 - acc: 0.8368\n",
      "Epoch 94/200\n",
      "711/711 [==============================] - 0s 11us/step - loss: 0.4158 - acc: 0.8368\n",
      "Epoch 95/200\n",
      "711/711 [==============================] - 0s 11us/step - loss: 0.4140 - acc: 0.8368\n",
      "Epoch 96/200\n",
      "711/711 [==============================] - 0s 11us/step - loss: 0.4124 - acc: 0.8368\n",
      "Epoch 97/200\n",
      "711/711 [==============================] - 0s 12us/step - loss: 0.4108 - acc: 0.8383\n",
      "Epoch 98/200\n",
      "711/711 [==============================] - 0s 12us/step - loss: 0.4095 - acc: 0.8354\n",
      "Epoch 99/200\n",
      "711/711 [==============================] - 0s 13us/step - loss: 0.4083 - acc: 0.8354\n",
      "Epoch 100/200\n",
      "711/711 [==============================] - 0s 14us/step - loss: 0.4070 - acc: 0.8354\n",
      "Epoch 101/200\n",
      "711/711 [==============================] - 0s 11us/step - loss: 0.4059 - acc: 0.8383\n",
      "Epoch 102/200\n",
      "711/711 [==============================] - 0s 12us/step - loss: 0.4050 - acc: 0.8383\n",
      "Epoch 103/200\n",
      "711/711 [==============================] - 0s 17us/step - loss: 0.4042 - acc: 0.8383\n",
      "Epoch 104/200\n",
      "711/711 [==============================] - 0s 11us/step - loss: 0.4034 - acc: 0.8368\n",
      "Epoch 105/200\n",
      "711/711 [==============================] - 0s 10us/step - loss: 0.4027 - acc: 0.8383\n",
      "Epoch 106/200\n",
      "711/711 [==============================] - 0s 10us/step - loss: 0.4019 - acc: 0.8383\n",
      "Epoch 107/200\n",
      "711/711 [==============================] - 0s 12us/step - loss: 0.4011 - acc: 0.8397\n",
      "Epoch 108/200\n",
      "711/711 [==============================] - 0s 11us/step - loss: 0.4004 - acc: 0.8383\n",
      "Epoch 109/200\n",
      "711/711 [==============================] - 0s 10us/step - loss: 0.3998 - acc: 0.8383\n",
      "Epoch 110/200\n",
      "711/711 [==============================] - 0s 11us/step - loss: 0.3991 - acc: 0.8368\n",
      "Epoch 111/200\n",
      "711/711 [==============================] - 0s 9us/step - loss: 0.3986 - acc: 0.8340\n",
      "Epoch 112/200\n",
      "711/711 [==============================] - 0s 11us/step - loss: 0.3981 - acc: 0.8354\n",
      "Epoch 113/200\n",
      "711/711 [==============================] - 0s 12us/step - loss: 0.3976 - acc: 0.8340\n",
      "Epoch 114/200\n",
      "711/711 [==============================] - 0s 12us/step - loss: 0.3971 - acc: 0.8312\n",
      "Epoch 115/200\n",
      "711/711 [==============================] - 0s 11us/step - loss: 0.3967 - acc: 0.8298\n",
      "Epoch 116/200\n",
      "711/711 [==============================] - 0s 12us/step - loss: 0.3962 - acc: 0.8312\n",
      "Epoch 117/200\n",
      "711/711 [==============================] - 0s 10us/step - loss: 0.3958 - acc: 0.8298\n",
      "Epoch 118/200\n",
      "711/711 [==============================] - 0s 12us/step - loss: 0.3954 - acc: 0.8298\n",
      "Epoch 119/200\n",
      "711/711 [==============================] - 0s 11us/step - loss: 0.3950 - acc: 0.8284\n",
      "Epoch 120/200\n",
      "711/711 [==============================] - 0s 9us/step - loss: 0.3947 - acc: 0.8284\n",
      "Epoch 121/200\n",
      "711/711 [==============================] - 0s 13us/step - loss: 0.3943 - acc: 0.8284\n",
      "Epoch 122/200\n",
      "711/711 [==============================] - 0s 11us/step - loss: 0.3941 - acc: 0.8284\n",
      "Epoch 123/200\n",
      "711/711 [==============================] - 0s 11us/step - loss: 0.3937 - acc: 0.8284\n",
      "Epoch 124/200\n",
      "711/711 [==============================] - 0s 11us/step - loss: 0.3934 - acc: 0.8284\n",
      "Epoch 125/200\n",
      "711/711 [==============================] - 0s 13us/step - loss: 0.3932 - acc: 0.8326\n",
      "Epoch 126/200\n",
      "711/711 [==============================] - 0s 12us/step - loss: 0.3929 - acc: 0.8326\n",
      "Epoch 127/200\n",
      "711/711 [==============================] - 0s 11us/step - loss: 0.3925 - acc: 0.8326\n",
      "Epoch 128/200\n",
      "711/711 [==============================] - 0s 11us/step - loss: 0.3923 - acc: 0.8326\n",
      "Epoch 129/200\n",
      "711/711 [==============================] - 0s 10us/step - loss: 0.3920 - acc: 0.8354\n",
      "Epoch 130/200\n",
      "711/711 [==============================] - 0s 11us/step - loss: 0.3917 - acc: 0.8354\n",
      "Epoch 131/200\n",
      "711/711 [==============================] - 0s 12us/step - loss: 0.3914 - acc: 0.8368\n",
      "Epoch 132/200\n",
      "711/711 [==============================] - 0s 10us/step - loss: 0.3912 - acc: 0.8368\n",
      "Epoch 133/200\n",
      "711/711 [==============================] - 0s 12us/step - loss: 0.3909 - acc: 0.8340\n",
      "Epoch 134/200\n",
      "711/711 [==============================] - 0s 10us/step - loss: 0.3906 - acc: 0.8340\n",
      "Epoch 135/200\n",
      "711/711 [==============================] - 0s 12us/step - loss: 0.3903 - acc: 0.8326\n",
      "Epoch 136/200\n",
      "711/711 [==============================] - 0s 13us/step - loss: 0.3900 - acc: 0.8326\n",
      "Epoch 137/200\n",
      "711/711 [==============================] - 0s 10us/step - loss: 0.3896 - acc: 0.8326\n",
      "Epoch 138/200\n",
      "711/711 [==============================] - 0s 18us/step - loss: 0.3895 - acc: 0.8354\n",
      "Epoch 139/200\n",
      "711/711 [==============================] - 0s 13us/step - loss: 0.3890 - acc: 0.8368\n",
      "Epoch 140/200\n",
      "711/711 [==============================] - 0s 10us/step - loss: 0.3887 - acc: 0.8354\n",
      "Epoch 141/200\n",
      "711/711 [==============================] - 0s 15us/step - loss: 0.3884 - acc: 0.8340\n",
      "Epoch 142/200\n",
      "711/711 [==============================] - 0s 13us/step - loss: 0.3880 - acc: 0.8368\n",
      "Epoch 143/200\n",
      "711/711 [==============================] - 0s 10us/step - loss: 0.3876 - acc: 0.8411\n",
      "Epoch 144/200\n",
      "711/711 [==============================] - 0s 14us/step - loss: 0.3873 - acc: 0.8411\n",
      "Epoch 145/200\n",
      "711/711 [==============================] - 0s 11us/step - loss: 0.3869 - acc: 0.8425\n",
      "Epoch 146/200\n",
      "711/711 [==============================] - 0s 12us/step - loss: 0.3866 - acc: 0.8425\n",
      "Epoch 147/200\n",
      "711/711 [==============================] - 0s 14us/step - loss: 0.3862 - acc: 0.8439\n",
      "Epoch 148/200\n",
      "711/711 [==============================] - 0s 12us/step - loss: 0.3858 - acc: 0.8439\n",
      "Epoch 149/200\n",
      "711/711 [==============================] - 0s 12us/step - loss: 0.3854 - acc: 0.8453\n",
      "Epoch 150/200\n",
      "711/711 [==============================] - 0s 11us/step - loss: 0.3851 - acc: 0.8439\n",
      "Epoch 151/200\n",
      "711/711 [==============================] - 0s 10us/step - loss: 0.3847 - acc: 0.8439\n",
      "Epoch 152/200\n",
      "711/711 [==============================] - 0s 11us/step - loss: 0.3844 - acc: 0.8439\n",
      "Epoch 153/200\n",
      "711/711 [==============================] - 0s 12us/step - loss: 0.3841 - acc: 0.8411\n",
      "Epoch 154/200\n",
      "711/711 [==============================] - 0s 13us/step - loss: 0.3838 - acc: 0.8397\n",
      "Epoch 155/200\n",
      "711/711 [==============================] - 0s 11us/step - loss: 0.3837 - acc: 0.8397\n",
      "Epoch 156/200\n",
      "711/711 [==============================] - 0s 10us/step - loss: 0.3833 - acc: 0.8397\n",
      "Epoch 157/200\n",
      "711/711 [==============================] - 0s 12us/step - loss: 0.3831 - acc: 0.8411\n",
      "Epoch 158/200\n",
      "711/711 [==============================] - 0s 12us/step - loss: 0.3828 - acc: 0.8425\n",
      "Epoch 159/200\n",
      "711/711 [==============================] - 0s 11us/step - loss: 0.3826 - acc: 0.8425\n",
      "Epoch 160/200\n",
      "711/711 [==============================] - 0s 11us/step - loss: 0.3823 - acc: 0.8411\n",
      "Epoch 161/200\n",
      "711/711 [==============================] - 0s 11us/step - loss: 0.3821 - acc: 0.8425\n",
      "Epoch 162/200\n",
      "711/711 [==============================] - 0s 12us/step - loss: 0.3819 - acc: 0.8411\n",
      "Epoch 163/200\n",
      "711/711 [==============================] - 0s 11us/step - loss: 0.3817 - acc: 0.8425\n",
      "Epoch 164/200\n",
      "711/711 [==============================] - 0s 11us/step - loss: 0.3815 - acc: 0.8425\n",
      "Epoch 165/200\n",
      "711/711 [==============================] - 0s 13us/step - loss: 0.3813 - acc: 0.8425\n",
      "Epoch 166/200\n",
      "711/711 [==============================] - 0s 12us/step - loss: 0.3811 - acc: 0.8425\n",
      "Epoch 167/200\n",
      "711/711 [==============================] - 0s 12us/step - loss: 0.3810 - acc: 0.8425\n",
      "Epoch 168/200\n",
      "711/711 [==============================] - 0s 13us/step - loss: 0.3808 - acc: 0.8439\n",
      "Epoch 169/200\n",
      "711/711 [==============================] - 0s 10us/step - loss: 0.3808 - acc: 0.8439\n",
      "Epoch 170/200\n",
      "711/711 [==============================] - 0s 10us/step - loss: 0.3807 - acc: 0.8439\n",
      "Epoch 171/200\n",
      "711/711 [==============================] - 0s 11us/step - loss: 0.3805 - acc: 0.8439\n",
      "Epoch 172/200\n",
      "711/711 [==============================] - 0s 10us/step - loss: 0.3803 - acc: 0.8425\n",
      "Epoch 173/200\n",
      "711/711 [==============================] - 0s 11us/step - loss: 0.3801 - acc: 0.8411\n",
      "Epoch 174/200\n",
      "711/711 [==============================] - 0s 11us/step - loss: 0.3799 - acc: 0.8411\n",
      "Epoch 175/200\n",
      "711/711 [==============================] - 0s 11us/step - loss: 0.3796 - acc: 0.8425\n",
      "Epoch 176/200\n",
      "711/711 [==============================] - 0s 12us/step - loss: 0.3795 - acc: 0.8439\n",
      "Epoch 177/200\n",
      "711/711 [==============================] - 0s 12us/step - loss: 0.3793 - acc: 0.8481\n",
      "Epoch 178/200\n",
      "711/711 [==============================] - 0s 11us/step - loss: 0.3793 - acc: 0.8481\n",
      "Epoch 179/200\n",
      "711/711 [==============================] - 0s 11us/step - loss: 0.3791 - acc: 0.8481\n",
      "Epoch 180/200\n",
      "711/711 [==============================] - 0s 11us/step - loss: 0.3790 - acc: 0.8467\n",
      "Epoch 181/200\n",
      "711/711 [==============================] - 0s 10us/step - loss: 0.3788 - acc: 0.8481\n",
      "Epoch 182/200\n",
      "711/711 [==============================] - 0s 10us/step - loss: 0.3788 - acc: 0.8439\n",
      "Epoch 183/200\n",
      "711/711 [==============================] - 0s 10us/step - loss: 0.3786 - acc: 0.8453\n",
      "Epoch 184/200\n",
      "711/711 [==============================] - 0s 12us/step - loss: 0.3786 - acc: 0.8453\n",
      "Epoch 185/200\n",
      "711/711 [==============================] - 0s 11us/step - loss: 0.3785 - acc: 0.8453\n",
      "Epoch 186/200\n",
      "711/711 [==============================] - 0s 11us/step - loss: 0.3784 - acc: 0.8467\n",
      "Epoch 187/200\n",
      "711/711 [==============================] - 0s 11us/step - loss: 0.3781 - acc: 0.8453\n",
      "Epoch 188/200\n",
      "711/711 [==============================] - 0s 10us/step - loss: 0.3780 - acc: 0.8453\n",
      "Epoch 189/200\n",
      "711/711 [==============================] - 0s 12us/step - loss: 0.3778 - acc: 0.8453\n",
      "Epoch 190/200\n",
      "711/711 [==============================] - 0s 9us/step - loss: 0.3776 - acc: 0.8453\n",
      "Epoch 191/200\n",
      "711/711 [==============================] - 0s 10us/step - loss: 0.3775 - acc: 0.8467\n",
      "Epoch 192/200\n",
      "711/711 [==============================] - 0s 10us/step - loss: 0.3774 - acc: 0.8467\n",
      "Epoch 193/200\n",
      "711/711 [==============================] - 0s 8us/step - loss: 0.3772 - acc: 0.8425\n",
      "Epoch 194/200\n",
      "711/711 [==============================] - 0s 8us/step - loss: 0.3771 - acc: 0.8439\n",
      "Epoch 195/200\n",
      "711/711 [==============================] - 0s 10us/step - loss: 0.3770 - acc: 0.8453\n",
      "Epoch 196/200\n",
      "711/711 [==============================] - 0s 9us/step - loss: 0.3768 - acc: 0.8439\n",
      "Epoch 197/200\n",
      "711/711 [==============================] - 0s 10us/step - loss: 0.3767 - acc: 0.8467\n",
      "Epoch 198/200\n",
      "711/711 [==============================] - 0s 14us/step - loss: 0.3765 - acc: 0.8481\n",
      "Epoch 199/200\n",
      "711/711 [==============================] - 0s 13us/step - loss: 0.3764 - acc: 0.8495\n",
      "Epoch 200/200\n",
      "711/711 [==============================] - 0s 11us/step - loss: 0.3764 - acc: 0.8495\n"
     ]
    },
    {
     "data": {
      "text/plain": [
       "<keras.callbacks.History at 0x1a2ae4ca90>"
      ]
     },
     "execution_count": 41,
     "metadata": {},
     "output_type": "execute_result"
    }
   ],
   "source": [
    "# Fitting the ANN to the Training set\n",
    "classifier.fit(X_train, y_train, verbose=1, batch_size = 500, epochs = 200)"
   ]
  },
  {
   "cell_type": "code",
   "execution_count": 42,
   "metadata": {
    "colab": {},
    "colab_type": "code",
    "id": "odGSR9oVdCNh"
   },
   "outputs": [
    {
     "data": {
      "text/plain": [
       "[<tf.Variable 'dense_1/kernel:0' shape=(8, 9) dtype=float32_ref>,\n",
       " <tf.Variable 'dense_1/bias:0' shape=(9,) dtype=float32_ref>,\n",
       " <tf.Variable 'dense_2/kernel:0' shape=(9, 10) dtype=float32_ref>,\n",
       " <tf.Variable 'dense_2/bias:0' shape=(10,) dtype=float32_ref>,\n",
       " <tf.Variable 'dense_3/kernel:0' shape=(10, 8) dtype=float32_ref>,\n",
       " <tf.Variable 'dense_3/bias:0' shape=(8,) dtype=float32_ref>,\n",
       " <tf.Variable 'dense_4/kernel:0' shape=(8, 1) dtype=float32_ref>,\n",
       " <tf.Variable 'dense_4/bias:0' shape=(1,) dtype=float32_ref>]"
      ]
     },
     "execution_count": 42,
     "metadata": {},
     "output_type": "execute_result"
    }
   ],
   "source": [
    "classifier.weights"
   ]
  },
  {
   "cell_type": "code",
   "execution_count": 43,
   "metadata": {
    "colab": {},
    "colab_type": "code",
    "id": "0xoVqOKk9esG"
   },
   "outputs": [],
   "source": [
    "#Part 3 - Making predictions and evaluating the model"
   ]
  },
  {
   "cell_type": "code",
   "execution_count": 44,
   "metadata": {
    "colab": {},
    "colab_type": "code",
    "id": "EK0UytfB9esJ"
   },
   "outputs": [],
   "source": [
    "# Predicting the Test set results\n",
    "y_pred = classifier.predict(X_test)\n",
    "y_pred = (y_pred > 0.3)"
   ]
  },
  {
   "cell_type": "code",
   "execution_count": 45,
   "metadata": {
    "colab": {},
    "colab_type": "code",
    "id": "da2R8Ze89esO"
   },
   "outputs": [
    {
     "data": {
      "text/plain": [
       "array([[79, 26],\n",
       "       [21, 52]])"
      ]
     },
     "execution_count": 45,
     "metadata": {},
     "output_type": "execute_result"
    }
   ],
   "source": [
    "# Making the Confusion Matrix\n",
    "from sklearn.metrics import confusion_matrix\n",
    "cm = confusion_matrix(y_test, y_pred)\n",
    "cm"
   ]
  },
  {
   "cell_type": "code",
   "execution_count": 46,
   "metadata": {
    "colab": {},
    "colab_type": "code",
    "id": "W008Tk16uI7Z"
   },
   "outputs": [
    {
     "data": {
      "text/plain": [
       "array([ True, False,  True,  True, False,  True, False, False,  True,\n",
       "        True,  True,  True,  True, False,  True, False,  True,  True,\n",
       "       False,  True,  True,  True,  True, False, False, False,  True,\n",
       "        True,  True, False,  True, False, False,  True, False, False,\n",
       "       False, False, False, False,  True, False,  True, False,  True,\n",
       "       False, False, False, False, False,  True,  True, False,  True,\n",
       "       False,  True,  True,  True, False, False,  True, False, False,\n",
       "       False, False, False,  True,  True,  True,  True,  True, False,\n",
       "       False,  True,  True,  True, False, False,  True, False, False,\n",
       "        True,  True,  True,  True,  True, False, False, False, False,\n",
       "       False,  True,  True, False, False,  True,  True,  True, False,\n",
       "        True, False,  True, False,  True, False,  True, False, False,\n",
       "       False,  True,  True,  True, False,  True, False,  True, False,\n",
       "       False, False, False, False, False, False,  True, False, False,\n",
       "       False, False, False, False, False, False,  True, False, False,\n",
       "        True, False,  True,  True, False, False, False,  True,  True,\n",
       "        True, False, False,  True, False, False, False, False,  True,\n",
       "       False, False, False,  True,  True,  True, False, False, False,\n",
       "        True, False, False,  True, False,  True, False,  True, False,\n",
       "       False, False, False, False, False,  True,  True])"
      ]
     },
     "execution_count": 46,
     "metadata": {},
     "output_type": "execute_result"
    }
   ],
   "source": [
    "y_pred[:,0]"
   ]
  },
  {
   "cell_type": "markdown",
   "metadata": {},
   "source": [
    "# Step - 7 : Predict on New Cases\n",
    "## Prediction on Test Data From Kaggle\n",
    "\n",
    "create an account on www.kaggle.com"
   ]
  },
  {
   "cell_type": "markdown",
   "metadata": {},
   "source": [
    "TODO - LOAD ACTUAL TEST DATA FROM KAGGLE, CLEAN DATA, RUN NEURAL NET MODEL ON DATA, SUBMIT RESULTS"
   ]
  },
  {
   "cell_type": "code",
   "execution_count": 47,
   "metadata": {},
   "outputs": [],
   "source": [
    "# FOR GOOGLE COLAB - UNCOMMENT LINES BELOW\n",
    "\n",
    "# !wget -q https://www.dropbox.com/s/t9i5j6ki0qsf989/Titanic%20Data-Test.csv?dl=0\n",
    "# !ls -l\n",
    "# test_data = pd.read_csv('Titanic Data-Test.csv')"
   ]
  },
  {
   "cell_type": "code",
   "execution_count": 48,
   "metadata": {},
   "outputs": [],
   "source": [
    "# FOR JUPYTER NOTEBOOK - UNCOMMENT LINES BELOW\n",
    "\n",
    "test_data = pd.read_csv('Titanic Data-Test.csv')"
   ]
  },
  {
   "cell_type": "code",
   "execution_count": 49,
   "metadata": {},
   "outputs": [
    {
     "data": {
      "text/html": [
       "<div>\n",
       "<style>\n",
       "    .dataframe thead tr:only-child th {\n",
       "        text-align: right;\n",
       "    }\n",
       "\n",
       "    .dataframe thead th {\n",
       "        text-align: left;\n",
       "    }\n",
       "\n",
       "    .dataframe tbody tr th {\n",
       "        vertical-align: top;\n",
       "    }\n",
       "</style>\n",
       "<table border=\"1\" class=\"dataframe\">\n",
       "  <thead>\n",
       "    <tr style=\"text-align: right;\">\n",
       "      <th></th>\n",
       "      <th>Pclass</th>\n",
       "      <th>Name</th>\n",
       "      <th>Sex</th>\n",
       "      <th>Age</th>\n",
       "      <th>SibSp</th>\n",
       "      <th>Parch</th>\n",
       "      <th>Ticket</th>\n",
       "      <th>Fare</th>\n",
       "      <th>Cabin</th>\n",
       "      <th>Embarked</th>\n",
       "    </tr>\n",
       "    <tr>\n",
       "      <th>PassengerId</th>\n",
       "      <th></th>\n",
       "      <th></th>\n",
       "      <th></th>\n",
       "      <th></th>\n",
       "      <th></th>\n",
       "      <th></th>\n",
       "      <th></th>\n",
       "      <th></th>\n",
       "      <th></th>\n",
       "      <th></th>\n",
       "    </tr>\n",
       "  </thead>\n",
       "  <tbody>\n",
       "    <tr>\n",
       "      <th>892</th>\n",
       "      <td>3</td>\n",
       "      <td>Kelly, Mr. James</td>\n",
       "      <td>male</td>\n",
       "      <td>34.5</td>\n",
       "      <td>0</td>\n",
       "      <td>0</td>\n",
       "      <td>330911</td>\n",
       "      <td>7.8292</td>\n",
       "      <td>NaN</td>\n",
       "      <td>Q</td>\n",
       "    </tr>\n",
       "    <tr>\n",
       "      <th>893</th>\n",
       "      <td>3</td>\n",
       "      <td>Wilkes, Mrs. James (Ellen Needs)</td>\n",
       "      <td>female</td>\n",
       "      <td>47.0</td>\n",
       "      <td>1</td>\n",
       "      <td>0</td>\n",
       "      <td>363272</td>\n",
       "      <td>7.0000</td>\n",
       "      <td>NaN</td>\n",
       "      <td>S</td>\n",
       "    </tr>\n",
       "    <tr>\n",
       "      <th>894</th>\n",
       "      <td>2</td>\n",
       "      <td>Myles, Mr. Thomas Francis</td>\n",
       "      <td>male</td>\n",
       "      <td>62.0</td>\n",
       "      <td>0</td>\n",
       "      <td>0</td>\n",
       "      <td>240276</td>\n",
       "      <td>9.6875</td>\n",
       "      <td>NaN</td>\n",
       "      <td>Q</td>\n",
       "    </tr>\n",
       "    <tr>\n",
       "      <th>895</th>\n",
       "      <td>3</td>\n",
       "      <td>Wirz, Mr. Albert</td>\n",
       "      <td>male</td>\n",
       "      <td>27.0</td>\n",
       "      <td>0</td>\n",
       "      <td>0</td>\n",
       "      <td>315154</td>\n",
       "      <td>8.6625</td>\n",
       "      <td>NaN</td>\n",
       "      <td>S</td>\n",
       "    </tr>\n",
       "    <tr>\n",
       "      <th>896</th>\n",
       "      <td>3</td>\n",
       "      <td>Hirvonen, Mrs. Alexander (Helga E Lindqvist)</td>\n",
       "      <td>female</td>\n",
       "      <td>22.0</td>\n",
       "      <td>1</td>\n",
       "      <td>1</td>\n",
       "      <td>3101298</td>\n",
       "      <td>12.2875</td>\n",
       "      <td>NaN</td>\n",
       "      <td>S</td>\n",
       "    </tr>\n",
       "  </tbody>\n",
       "</table>\n",
       "</div>"
      ],
      "text/plain": [
       "             Pclass                                          Name     Sex  \\\n",
       "PassengerId                                                                 \n",
       "892               3                              Kelly, Mr. James    male   \n",
       "893               3              Wilkes, Mrs. James (Ellen Needs)  female   \n",
       "894               2                     Myles, Mr. Thomas Francis    male   \n",
       "895               3                              Wirz, Mr. Albert    male   \n",
       "896               3  Hirvonen, Mrs. Alexander (Helga E Lindqvist)  female   \n",
       "\n",
       "              Age  SibSp  Parch   Ticket     Fare Cabin Embarked  \n",
       "PassengerId                                                       \n",
       "892          34.5      0      0   330911   7.8292   NaN        Q  \n",
       "893          47.0      1      0   363272   7.0000   NaN        S  \n",
       "894          62.0      0      0   240276   9.6875   NaN        Q  \n",
       "895          27.0      0      0   315154   8.6625   NaN        S  \n",
       "896          22.0      1      1  3101298  12.2875   NaN        S  "
      ]
     },
     "execution_count": 49,
     "metadata": {},
     "output_type": "execute_result"
    }
   ],
   "source": [
    "test_data.set_index('PassengerId', inplace=True)\n",
    "test_data.head()"
   ]
  },
  {
   "cell_type": "code",
   "execution_count": 50,
   "metadata": {},
   "outputs": [
    {
     "name": "stdout",
     "output_type": "stream",
     "text": [
      "<class 'pandas.core.frame.DataFrame'>\n",
      "Int64Index: 418 entries, 892 to 1309\n",
      "Data columns (total 10 columns):\n",
      "Pclass      418 non-null int64\n",
      "Name        418 non-null object\n",
      "Sex         418 non-null object\n",
      "Age         332 non-null float64\n",
      "SibSp       418 non-null int64\n",
      "Parch       418 non-null int64\n",
      "Ticket      418 non-null object\n",
      "Fare        417 non-null float64\n",
      "Cabin       91 non-null object\n",
      "Embarked    418 non-null object\n",
      "dtypes: float64(2), int64(3), object(5)\n",
      "memory usage: 35.9+ KB\n"
     ]
    }
   ],
   "source": [
    "test_data.info()"
   ]
  },
  {
   "cell_type": "code",
   "execution_count": 51,
   "metadata": {},
   "outputs": [
    {
     "data": {
      "text/html": [
       "<div>\n",
       "<style>\n",
       "    .dataframe thead tr:only-child th {\n",
       "        text-align: right;\n",
       "    }\n",
       "\n",
       "    .dataframe thead th {\n",
       "        text-align: left;\n",
       "    }\n",
       "\n",
       "    .dataframe tbody tr th {\n",
       "        vertical-align: top;\n",
       "    }\n",
       "</style>\n",
       "<table border=\"1\" class=\"dataframe\">\n",
       "  <thead>\n",
       "    <tr style=\"text-align: right;\">\n",
       "      <th></th>\n",
       "      <th>Pclass</th>\n",
       "      <th>Sex</th>\n",
       "      <th>Age</th>\n",
       "      <th>SibSp</th>\n",
       "      <th>Parch</th>\n",
       "      <th>Fare</th>\n",
       "      <th>Embarked</th>\n",
       "    </tr>\n",
       "    <tr>\n",
       "      <th>PassengerId</th>\n",
       "      <th></th>\n",
       "      <th></th>\n",
       "      <th></th>\n",
       "      <th></th>\n",
       "      <th></th>\n",
       "      <th></th>\n",
       "      <th></th>\n",
       "    </tr>\n",
       "  </thead>\n",
       "  <tbody>\n",
       "    <tr>\n",
       "      <th>892</th>\n",
       "      <td>3</td>\n",
       "      <td>male</td>\n",
       "      <td>34.5</td>\n",
       "      <td>0</td>\n",
       "      <td>0</td>\n",
       "      <td>7.8292</td>\n",
       "      <td>Q</td>\n",
       "    </tr>\n",
       "    <tr>\n",
       "      <th>893</th>\n",
       "      <td>3</td>\n",
       "      <td>female</td>\n",
       "      <td>47.0</td>\n",
       "      <td>1</td>\n",
       "      <td>0</td>\n",
       "      <td>7.0000</td>\n",
       "      <td>S</td>\n",
       "    </tr>\n",
       "    <tr>\n",
       "      <th>894</th>\n",
       "      <td>2</td>\n",
       "      <td>male</td>\n",
       "      <td>62.0</td>\n",
       "      <td>0</td>\n",
       "      <td>0</td>\n",
       "      <td>9.6875</td>\n",
       "      <td>Q</td>\n",
       "    </tr>\n",
       "    <tr>\n",
       "      <th>895</th>\n",
       "      <td>3</td>\n",
       "      <td>male</td>\n",
       "      <td>27.0</td>\n",
       "      <td>0</td>\n",
       "      <td>0</td>\n",
       "      <td>8.6625</td>\n",
       "      <td>S</td>\n",
       "    </tr>\n",
       "    <tr>\n",
       "      <th>896</th>\n",
       "      <td>3</td>\n",
       "      <td>female</td>\n",
       "      <td>22.0</td>\n",
       "      <td>1</td>\n",
       "      <td>1</td>\n",
       "      <td>12.2875</td>\n",
       "      <td>S</td>\n",
       "    </tr>\n",
       "  </tbody>\n",
       "</table>\n",
       "</div>"
      ],
      "text/plain": [
       "             Pclass     Sex   Age  SibSp  Parch     Fare Embarked\n",
       "PassengerId                                                      \n",
       "892               3    male  34.5      0      0   7.8292        Q\n",
       "893               3  female  47.0      1      0   7.0000        S\n",
       "894               2    male  62.0      0      0   9.6875        Q\n",
       "895               3    male  27.0      0      0   8.6625        S\n",
       "896               3  female  22.0      1      1  12.2875        S"
      ]
     },
     "execution_count": 51,
     "metadata": {},
     "output_type": "execute_result"
    }
   ],
   "source": [
    "test_data.drop(['Name', 'Ticket', 'Cabin'], axis=1, inplace=True)\n",
    "test_data.head()"
   ]
  },
  {
   "cell_type": "code",
   "execution_count": 52,
   "metadata": {},
   "outputs": [
    {
     "data": {
      "text/plain": [
       "S    270\n",
       "C    102\n",
       "Q     46\n",
       "Name: Embarked, dtype: int64"
      ]
     },
     "execution_count": 52,
     "metadata": {},
     "output_type": "execute_result"
    }
   ],
   "source": [
    "test_data['Embarked'].value_counts()"
   ]
  },
  {
   "cell_type": "code",
   "execution_count": 53,
   "metadata": {},
   "outputs": [
    {
     "data": {
      "text/html": [
       "<div>\n",
       "<style>\n",
       "    .dataframe thead tr:only-child th {\n",
       "        text-align: right;\n",
       "    }\n",
       "\n",
       "    .dataframe thead th {\n",
       "        text-align: left;\n",
       "    }\n",
       "\n",
       "    .dataframe tbody tr th {\n",
       "        vertical-align: top;\n",
       "    }\n",
       "</style>\n",
       "<table border=\"1\" class=\"dataframe\">\n",
       "  <thead>\n",
       "    <tr style=\"text-align: right;\">\n",
       "      <th></th>\n",
       "      <th>Q</th>\n",
       "      <th>S</th>\n",
       "    </tr>\n",
       "    <tr>\n",
       "      <th>PassengerId</th>\n",
       "      <th></th>\n",
       "      <th></th>\n",
       "    </tr>\n",
       "  </thead>\n",
       "  <tbody>\n",
       "    <tr>\n",
       "      <th>892</th>\n",
       "      <td>1</td>\n",
       "      <td>0</td>\n",
       "    </tr>\n",
       "    <tr>\n",
       "      <th>893</th>\n",
       "      <td>0</td>\n",
       "      <td>1</td>\n",
       "    </tr>\n",
       "    <tr>\n",
       "      <th>894</th>\n",
       "      <td>1</td>\n",
       "      <td>0</td>\n",
       "    </tr>\n",
       "    <tr>\n",
       "      <th>895</th>\n",
       "      <td>0</td>\n",
       "      <td>1</td>\n",
       "    </tr>\n",
       "    <tr>\n",
       "      <th>896</th>\n",
       "      <td>0</td>\n",
       "      <td>1</td>\n",
       "    </tr>\n",
       "  </tbody>\n",
       "</table>\n",
       "</div>"
      ],
      "text/plain": [
       "             Q  S\n",
       "PassengerId      \n",
       "892          1  0\n",
       "893          0  1\n",
       "894          1  0\n",
       "895          0  1\n",
       "896          0  1"
      ]
     },
     "execution_count": 53,
     "metadata": {},
     "output_type": "execute_result"
    }
   ],
   "source": [
    "embarked_dummies = pd.get_dummies(test_data['Embarked'], drop_first=True)\n",
    "embarked_dummies.head()"
   ]
  },
  {
   "cell_type": "code",
   "execution_count": 54,
   "metadata": {},
   "outputs": [
    {
     "data": {
      "text/plain": [
       "male      266\n",
       "female    152\n",
       "Name: Sex, dtype: int64"
      ]
     },
     "execution_count": 54,
     "metadata": {},
     "output_type": "execute_result"
    }
   ],
   "source": [
    "test_data['Sex'].value_counts()"
   ]
  },
  {
   "cell_type": "code",
   "execution_count": 55,
   "metadata": {},
   "outputs": [
    {
     "data": {
      "text/html": [
       "<div>\n",
       "<style>\n",
       "    .dataframe thead tr:only-child th {\n",
       "        text-align: right;\n",
       "    }\n",
       "\n",
       "    .dataframe thead th {\n",
       "        text-align: left;\n",
       "    }\n",
       "\n",
       "    .dataframe tbody tr th {\n",
       "        vertical-align: top;\n",
       "    }\n",
       "</style>\n",
       "<table border=\"1\" class=\"dataframe\">\n",
       "  <thead>\n",
       "    <tr style=\"text-align: right;\">\n",
       "      <th></th>\n",
       "      <th>male</th>\n",
       "    </tr>\n",
       "    <tr>\n",
       "      <th>PassengerId</th>\n",
       "      <th></th>\n",
       "    </tr>\n",
       "  </thead>\n",
       "  <tbody>\n",
       "    <tr>\n",
       "      <th>892</th>\n",
       "      <td>1</td>\n",
       "    </tr>\n",
       "    <tr>\n",
       "      <th>893</th>\n",
       "      <td>0</td>\n",
       "    </tr>\n",
       "    <tr>\n",
       "      <th>894</th>\n",
       "      <td>1</td>\n",
       "    </tr>\n",
       "    <tr>\n",
       "      <th>895</th>\n",
       "      <td>1</td>\n",
       "    </tr>\n",
       "    <tr>\n",
       "      <th>896</th>\n",
       "      <td>0</td>\n",
       "    </tr>\n",
       "  </tbody>\n",
       "</table>\n",
       "</div>"
      ],
      "text/plain": [
       "             male\n",
       "PassengerId      \n",
       "892             1\n",
       "893             0\n",
       "894             1\n",
       "895             1\n",
       "896             0"
      ]
     },
     "execution_count": 55,
     "metadata": {},
     "output_type": "execute_result"
    }
   ],
   "source": [
    "male = pd.get_dummies(test_data['Sex'], drop_first=True)\n",
    "male.head()"
   ]
  },
  {
   "cell_type": "code",
   "execution_count": 56,
   "metadata": {},
   "outputs": [
    {
     "data": {
      "text/html": [
       "<div>\n",
       "<style>\n",
       "    .dataframe thead tr:only-child th {\n",
       "        text-align: right;\n",
       "    }\n",
       "\n",
       "    .dataframe thead th {\n",
       "        text-align: left;\n",
       "    }\n",
       "\n",
       "    .dataframe tbody tr th {\n",
       "        vertical-align: top;\n",
       "    }\n",
       "</style>\n",
       "<table border=\"1\" class=\"dataframe\">\n",
       "  <thead>\n",
       "    <tr style=\"text-align: right;\">\n",
       "      <th></th>\n",
       "      <th>Pclass</th>\n",
       "      <th>Sex</th>\n",
       "      <th>Age</th>\n",
       "      <th>SibSp</th>\n",
       "      <th>Parch</th>\n",
       "      <th>Fare</th>\n",
       "      <th>Embarked</th>\n",
       "      <th>Q</th>\n",
       "      <th>S</th>\n",
       "      <th>male</th>\n",
       "    </tr>\n",
       "    <tr>\n",
       "      <th>PassengerId</th>\n",
       "      <th></th>\n",
       "      <th></th>\n",
       "      <th></th>\n",
       "      <th></th>\n",
       "      <th></th>\n",
       "      <th></th>\n",
       "      <th></th>\n",
       "      <th></th>\n",
       "      <th></th>\n",
       "      <th></th>\n",
       "    </tr>\n",
       "  </thead>\n",
       "  <tbody>\n",
       "    <tr>\n",
       "      <th>892</th>\n",
       "      <td>3</td>\n",
       "      <td>male</td>\n",
       "      <td>34.5</td>\n",
       "      <td>0</td>\n",
       "      <td>0</td>\n",
       "      <td>7.8292</td>\n",
       "      <td>Q</td>\n",
       "      <td>1</td>\n",
       "      <td>0</td>\n",
       "      <td>1</td>\n",
       "    </tr>\n",
       "    <tr>\n",
       "      <th>893</th>\n",
       "      <td>3</td>\n",
       "      <td>female</td>\n",
       "      <td>47.0</td>\n",
       "      <td>1</td>\n",
       "      <td>0</td>\n",
       "      <td>7.0000</td>\n",
       "      <td>S</td>\n",
       "      <td>0</td>\n",
       "      <td>1</td>\n",
       "      <td>0</td>\n",
       "    </tr>\n",
       "    <tr>\n",
       "      <th>894</th>\n",
       "      <td>2</td>\n",
       "      <td>male</td>\n",
       "      <td>62.0</td>\n",
       "      <td>0</td>\n",
       "      <td>0</td>\n",
       "      <td>9.6875</td>\n",
       "      <td>Q</td>\n",
       "      <td>1</td>\n",
       "      <td>0</td>\n",
       "      <td>1</td>\n",
       "    </tr>\n",
       "    <tr>\n",
       "      <th>895</th>\n",
       "      <td>3</td>\n",
       "      <td>male</td>\n",
       "      <td>27.0</td>\n",
       "      <td>0</td>\n",
       "      <td>0</td>\n",
       "      <td>8.6625</td>\n",
       "      <td>S</td>\n",
       "      <td>0</td>\n",
       "      <td>1</td>\n",
       "      <td>1</td>\n",
       "    </tr>\n",
       "    <tr>\n",
       "      <th>896</th>\n",
       "      <td>3</td>\n",
       "      <td>female</td>\n",
       "      <td>22.0</td>\n",
       "      <td>1</td>\n",
       "      <td>1</td>\n",
       "      <td>12.2875</td>\n",
       "      <td>S</td>\n",
       "      <td>0</td>\n",
       "      <td>1</td>\n",
       "      <td>0</td>\n",
       "    </tr>\n",
       "  </tbody>\n",
       "</table>\n",
       "</div>"
      ],
      "text/plain": [
       "             Pclass     Sex   Age  SibSp  Parch     Fare Embarked  Q  S  male\n",
       "PassengerId                                                                  \n",
       "892               3    male  34.5      0      0   7.8292        Q  1  0     1\n",
       "893               3  female  47.0      1      0   7.0000        S  0  1     0\n",
       "894               2    male  62.0      0      0   9.6875        Q  1  0     1\n",
       "895               3    male  27.0      0      0   8.6625        S  0  1     1\n",
       "896               3  female  22.0      1      1  12.2875        S  0  1     0"
      ]
     },
     "execution_count": 56,
     "metadata": {},
     "output_type": "execute_result"
    }
   ],
   "source": [
    "test_data = pd.concat([test_data, embarked_dummies, male], axis=1)\n",
    "test_data.head()"
   ]
  },
  {
   "cell_type": "code",
   "execution_count": 57,
   "metadata": {},
   "outputs": [
    {
     "data": {
      "text/html": [
       "<div>\n",
       "<style>\n",
       "    .dataframe thead tr:only-child th {\n",
       "        text-align: right;\n",
       "    }\n",
       "\n",
       "    .dataframe thead th {\n",
       "        text-align: left;\n",
       "    }\n",
       "\n",
       "    .dataframe tbody tr th {\n",
       "        vertical-align: top;\n",
       "    }\n",
       "</style>\n",
       "<table border=\"1\" class=\"dataframe\">\n",
       "  <thead>\n",
       "    <tr style=\"text-align: right;\">\n",
       "      <th></th>\n",
       "      <th>Pclass</th>\n",
       "      <th>Age</th>\n",
       "      <th>SibSp</th>\n",
       "      <th>Parch</th>\n",
       "      <th>Fare</th>\n",
       "      <th>Q</th>\n",
       "      <th>S</th>\n",
       "      <th>male</th>\n",
       "    </tr>\n",
       "    <tr>\n",
       "      <th>PassengerId</th>\n",
       "      <th></th>\n",
       "      <th></th>\n",
       "      <th></th>\n",
       "      <th></th>\n",
       "      <th></th>\n",
       "      <th></th>\n",
       "      <th></th>\n",
       "      <th></th>\n",
       "    </tr>\n",
       "  </thead>\n",
       "  <tbody>\n",
       "    <tr>\n",
       "      <th>892</th>\n",
       "      <td>3</td>\n",
       "      <td>34.5</td>\n",
       "      <td>0</td>\n",
       "      <td>0</td>\n",
       "      <td>7.8292</td>\n",
       "      <td>1</td>\n",
       "      <td>0</td>\n",
       "      <td>1</td>\n",
       "    </tr>\n",
       "    <tr>\n",
       "      <th>893</th>\n",
       "      <td>3</td>\n",
       "      <td>47.0</td>\n",
       "      <td>1</td>\n",
       "      <td>0</td>\n",
       "      <td>7.0000</td>\n",
       "      <td>0</td>\n",
       "      <td>1</td>\n",
       "      <td>0</td>\n",
       "    </tr>\n",
       "    <tr>\n",
       "      <th>894</th>\n",
       "      <td>2</td>\n",
       "      <td>62.0</td>\n",
       "      <td>0</td>\n",
       "      <td>0</td>\n",
       "      <td>9.6875</td>\n",
       "      <td>1</td>\n",
       "      <td>0</td>\n",
       "      <td>1</td>\n",
       "    </tr>\n",
       "    <tr>\n",
       "      <th>895</th>\n",
       "      <td>3</td>\n",
       "      <td>27.0</td>\n",
       "      <td>0</td>\n",
       "      <td>0</td>\n",
       "      <td>8.6625</td>\n",
       "      <td>0</td>\n",
       "      <td>1</td>\n",
       "      <td>1</td>\n",
       "    </tr>\n",
       "    <tr>\n",
       "      <th>896</th>\n",
       "      <td>3</td>\n",
       "      <td>22.0</td>\n",
       "      <td>1</td>\n",
       "      <td>1</td>\n",
       "      <td>12.2875</td>\n",
       "      <td>0</td>\n",
       "      <td>1</td>\n",
       "      <td>0</td>\n",
       "    </tr>\n",
       "  </tbody>\n",
       "</table>\n",
       "</div>"
      ],
      "text/plain": [
       "             Pclass   Age  SibSp  Parch     Fare  Q  S  male\n",
       "PassengerId                                                 \n",
       "892               3  34.5      0      0   7.8292  1  0     1\n",
       "893               3  47.0      1      0   7.0000  0  1     0\n",
       "894               2  62.0      0      0   9.6875  1  0     1\n",
       "895               3  27.0      0      0   8.6625  0  1     1\n",
       "896               3  22.0      1      1  12.2875  0  1     0"
      ]
     },
     "execution_count": 57,
     "metadata": {},
     "output_type": "execute_result"
    }
   ],
   "source": [
    "test_data.drop(['Sex', 'Embarked'], axis=1, inplace=True)\n",
    "test_data.head()"
   ]
  },
  {
   "cell_type": "code",
   "execution_count": 58,
   "metadata": {},
   "outputs": [
    {
     "name": "stdout",
     "output_type": "stream",
     "text": [
      "<class 'pandas.core.frame.DataFrame'>\n",
      "Int64Index: 418 entries, 892 to 1309\n",
      "Data columns (total 8 columns):\n",
      "Pclass    418 non-null int64\n",
      "Age       332 non-null float64\n",
      "SibSp     418 non-null int64\n",
      "Parch     418 non-null int64\n",
      "Fare      417 non-null float64\n",
      "Q         418 non-null uint8\n",
      "S         418 non-null uint8\n",
      "male      418 non-null uint8\n",
      "dtypes: float64(2), int64(3), uint8(3)\n",
      "memory usage: 20.8 KB\n"
     ]
    }
   ],
   "source": [
    "test_data.info()"
   ]
  },
  {
   "cell_type": "code",
   "execution_count": 59,
   "metadata": {},
   "outputs": [
    {
     "data": {
      "text/plain": [
       "Pclass     0\n",
       "Age       86\n",
       "SibSp      0\n",
       "Parch      0\n",
       "Fare       1\n",
       "Q          0\n",
       "S          0\n",
       "male       0\n",
       "dtype: int64"
      ]
     },
     "execution_count": 59,
     "metadata": {},
     "output_type": "execute_result"
    }
   ],
   "source": [
    "test_data.isnull().sum()"
   ]
  },
  {
   "cell_type": "code",
   "execution_count": 60,
   "metadata": {},
   "outputs": [],
   "source": [
    "t_mean_age_Pclass1 = int(test_data.loc[test_data['Pclass']==1]['Age'].mean())\n",
    "t_mean_age_Pclass2 = int(test_data.loc[test_data['Pclass']==2]['Age'].mean())\n",
    "t_mean_age_Pclass3 = int(test_data.loc[test_data['Pclass']==3]['Age'].mean())\n",
    "\n",
    "test_data.loc[(test_data['Age'].isnull() ) & (test_data['Pclass']==1), 'Age'] = t_mean_age_Pclass1\n",
    "test_data.loc[(test_data['Age'].isnull() ) & (test_data['Pclass']==2), 'Age'] = t_mean_age_Pclass2\n",
    "test_data.loc[(test_data['Age'].isnull() ) & (test_data['Pclass']==3), 'Age'] = t_mean_age_Pclass3"
   ]
  },
  {
   "cell_type": "code",
   "execution_count": 61,
   "metadata": {},
   "outputs": [
    {
     "name": "stdout",
     "output_type": "stream",
     "text": [
      "<class 'pandas.core.frame.DataFrame'>\n",
      "Int64Index: 418 entries, 892 to 1309\n",
      "Data columns (total 8 columns):\n",
      "Pclass    418 non-null int64\n",
      "Age       418 non-null float64\n",
      "SibSp     418 non-null int64\n",
      "Parch     418 non-null int64\n",
      "Fare      417 non-null float64\n",
      "Q         418 non-null uint8\n",
      "S         418 non-null uint8\n",
      "male      418 non-null uint8\n",
      "dtypes: float64(2), int64(3), uint8(3)\n",
      "memory usage: 20.8 KB\n"
     ]
    }
   ],
   "source": [
    "test_data.info()"
   ]
  },
  {
   "cell_type": "code",
   "execution_count": 62,
   "metadata": {},
   "outputs": [
    {
     "name": "stdout",
     "output_type": "stream",
     "text": [
      "<class 'pandas.core.frame.DataFrame'>\n",
      "Int64Index: 417 entries, 892 to 1309\n",
      "Data columns (total 8 columns):\n",
      "Pclass    417 non-null int64\n",
      "Age       417 non-null float64\n",
      "SibSp     417 non-null int64\n",
      "Parch     417 non-null int64\n",
      "Fare      417 non-null float64\n",
      "Q         417 non-null uint8\n",
      "S         417 non-null uint8\n",
      "male      417 non-null uint8\n",
      "dtypes: float64(2), int64(3), uint8(3)\n",
      "memory usage: 20.8 KB\n"
     ]
    }
   ],
   "source": [
    "test_data.dropna(inplace=True)\n",
    "test_data.info()"
   ]
  },
  {
   "cell_type": "code",
   "execution_count": 64,
   "metadata": {},
   "outputs": [
    {
     "data": {
      "text/html": [
       "<div>\n",
       "<style>\n",
       "    .dataframe thead tr:only-child th {\n",
       "        text-align: right;\n",
       "    }\n",
       "\n",
       "    .dataframe thead th {\n",
       "        text-align: left;\n",
       "    }\n",
       "\n",
       "    .dataframe tbody tr th {\n",
       "        vertical-align: top;\n",
       "    }\n",
       "</style>\n",
       "<table border=\"1\" class=\"dataframe\">\n",
       "  <thead>\n",
       "    <tr style=\"text-align: right;\">\n",
       "      <th></th>\n",
       "      <th>0</th>\n",
       "      <th>1</th>\n",
       "      <th>2</th>\n",
       "      <th>3</th>\n",
       "      <th>4</th>\n",
       "      <th>5</th>\n",
       "      <th>6</th>\n",
       "      <th>7</th>\n",
       "    </tr>\n",
       "  </thead>\n",
       "  <tbody>\n",
       "    <tr>\n",
       "      <th>count</th>\n",
       "      <td>4.170000e+02</td>\n",
       "      <td>4.170000e+02</td>\n",
       "      <td>4.170000e+02</td>\n",
       "      <td>4.170000e+02</td>\n",
       "      <td>4.170000e+02</td>\n",
       "      <td>4.170000e+02</td>\n",
       "      <td>4.170000e+02</td>\n",
       "      <td>4.170000e+02</td>\n",
       "    </tr>\n",
       "    <tr>\n",
       "      <th>mean</th>\n",
       "      <td>-1.064962e-17</td>\n",
       "      <td>-6.709261e-17</td>\n",
       "      <td>-4.259849e-17</td>\n",
       "      <td>-6.789134e-17</td>\n",
       "      <td>-5.258251e-17</td>\n",
       "      <td>6.656013e-18</td>\n",
       "      <td>1.895633e-16</td>\n",
       "      <td>-6.549517e-17</td>\n",
       "    </tr>\n",
       "    <tr>\n",
       "      <th>std</th>\n",
       "      <td>1.001201e+00</td>\n",
       "      <td>1.001201e+00</td>\n",
       "      <td>1.001201e+00</td>\n",
       "      <td>1.001201e+00</td>\n",
       "      <td>1.001201e+00</td>\n",
       "      <td>1.001201e+00</td>\n",
       "      <td>1.001201e+00</td>\n",
       "      <td>1.001201e+00</td>\n",
       "    </tr>\n",
       "    <tr>\n",
       "      <th>min</th>\n",
       "      <td>-1.502602e+00</td>\n",
       "      <td>-2.265063e+00</td>\n",
       "      <td>-5.002182e-01</td>\n",
       "      <td>-4.008043e-01</td>\n",
       "      <td>-6.380170e-01</td>\n",
       "      <td>-3.521210e-01</td>\n",
       "      <td>-1.348172e+00</td>\n",
       "      <td>-1.320387e+00</td>\n",
       "    </tr>\n",
       "    <tr>\n",
       "      <th>25%</th>\n",
       "      <td>-1.502602e+00</td>\n",
       "      <td>-4.898548e-01</td>\n",
       "      <td>-5.002182e-01</td>\n",
       "      <td>-4.008043e-01</td>\n",
       "      <td>-4.966178e-01</td>\n",
       "      <td>-3.521210e-01</td>\n",
       "      <td>-1.348172e+00</td>\n",
       "      <td>-1.320387e+00</td>\n",
       "    </tr>\n",
       "    <tr>\n",
       "      <th>50%</th>\n",
       "      <td>8.753298e-01</td>\n",
       "      <td>-3.343394e-01</td>\n",
       "      <td>-5.002182e-01</td>\n",
       "      <td>-4.008043e-01</td>\n",
       "      <td>-3.791690e-01</td>\n",
       "      <td>-3.521210e-01</td>\n",
       "      <td>7.417452e-01</td>\n",
       "      <td>7.573539e-01</td>\n",
       "    </tr>\n",
       "    <tr>\n",
       "      <th>75%</th>\n",
       "      <td>8.753298e-01</td>\n",
       "      <td>5.209952e-01</td>\n",
       "      <td>6.152416e-01</td>\n",
       "      <td>-4.008043e-01</td>\n",
       "      <td>-7.391031e-02</td>\n",
       "      <td>-3.521210e-01</td>\n",
       "      <td>7.417452e-01</td>\n",
       "      <td>7.573539e-01</td>\n",
       "    </tr>\n",
       "    <tr>\n",
       "      <th>max</th>\n",
       "      <td>8.753298e-01</td>\n",
       "      <td>3.631303e+00</td>\n",
       "      <td>8.423460e+00</td>\n",
       "      <td>8.771260e+00</td>\n",
       "      <td>8.536851e+00</td>\n",
       "      <td>2.839933e+00</td>\n",
       "      <td>7.417452e-01</td>\n",
       "      <td>7.573539e-01</td>\n",
       "    </tr>\n",
       "  </tbody>\n",
       "</table>\n",
       "</div>"
      ],
      "text/plain": [
       "                  0             1             2             3             4  \\\n",
       "count  4.170000e+02  4.170000e+02  4.170000e+02  4.170000e+02  4.170000e+02   \n",
       "mean  -1.064962e-17 -6.709261e-17 -4.259849e-17 -6.789134e-17 -5.258251e-17   \n",
       "std    1.001201e+00  1.001201e+00  1.001201e+00  1.001201e+00  1.001201e+00   \n",
       "min   -1.502602e+00 -2.265063e+00 -5.002182e-01 -4.008043e-01 -6.380170e-01   \n",
       "25%   -1.502602e+00 -4.898548e-01 -5.002182e-01 -4.008043e-01 -4.966178e-01   \n",
       "50%    8.753298e-01 -3.343394e-01 -5.002182e-01 -4.008043e-01 -3.791690e-01   \n",
       "75%    8.753298e-01  5.209952e-01  6.152416e-01 -4.008043e-01 -7.391031e-02   \n",
       "max    8.753298e-01  3.631303e+00  8.423460e+00  8.771260e+00  8.536851e+00   \n",
       "\n",
       "                  5             6             7  \n",
       "count  4.170000e+02  4.170000e+02  4.170000e+02  \n",
       "mean   6.656013e-18  1.895633e-16 -6.549517e-17  \n",
       "std    1.001201e+00  1.001201e+00  1.001201e+00  \n",
       "min   -3.521210e-01 -1.348172e+00 -1.320387e+00  \n",
       "25%   -3.521210e-01 -1.348172e+00 -1.320387e+00  \n",
       "50%   -3.521210e-01  7.417452e-01  7.573539e-01  \n",
       "75%   -3.521210e-01  7.417452e-01  7.573539e-01  \n",
       "max    2.839933e+00  7.417452e-01  7.573539e-01  "
      ]
     },
     "execution_count": 64,
     "metadata": {},
     "output_type": "execute_result"
    }
   ],
   "source": [
    "from sklearn.preprocessing import StandardScaler\n",
    "sc = StandardScaler()\n",
    "sc.fit(test_data)\n",
    "X_test = sc.transform(test_data)\n",
    "X_test = pd.DataFrame(X_test)\n",
    "X_test.describe()"
   ]
  },
  {
   "cell_type": "code",
   "execution_count": 78,
   "metadata": {},
   "outputs": [
    {
     "data": {
      "text/html": [
       "<div>\n",
       "<style>\n",
       "    .dataframe thead tr:only-child th {\n",
       "        text-align: right;\n",
       "    }\n",
       "\n",
       "    .dataframe thead th {\n",
       "        text-align: left;\n",
       "    }\n",
       "\n",
       "    .dataframe tbody tr th {\n",
       "        vertical-align: top;\n",
       "    }\n",
       "</style>\n",
       "<table border=\"1\" class=\"dataframe\">\n",
       "  <thead>\n",
       "    <tr style=\"text-align: right;\">\n",
       "      <th></th>\n",
       "      <th>0</th>\n",
       "    </tr>\n",
       "  </thead>\n",
       "  <tbody>\n",
       "    <tr>\n",
       "      <th>412</th>\n",
       "      <td>False</td>\n",
       "    </tr>\n",
       "    <tr>\n",
       "      <th>413</th>\n",
       "      <td>True</td>\n",
       "    </tr>\n",
       "    <tr>\n",
       "      <th>414</th>\n",
       "      <td>False</td>\n",
       "    </tr>\n",
       "    <tr>\n",
       "      <th>415</th>\n",
       "      <td>False</td>\n",
       "    </tr>\n",
       "    <tr>\n",
       "      <th>416</th>\n",
       "      <td>False</td>\n",
       "    </tr>\n",
       "  </tbody>\n",
       "</table>\n",
       "</div>"
      ],
      "text/plain": [
       "         0\n",
       "412  False\n",
       "413   True\n",
       "414  False\n",
       "415  False\n",
       "416  False"
      ]
     },
     "execution_count": 78,
     "metadata": {},
     "output_type": "execute_result"
    }
   ],
   "source": [
    "# Predicting the Test set results\n",
    "test_y_pred = classifier.predict(X_test)\n",
    "test_y_pred = (test_y_pred > 0.3)\n",
    "test_y_pred = pd.DataFrame(test_y_pred)\n",
    "test_y_pred.tail()"
   ]
  },
  {
   "cell_type": "code",
   "execution_count": 81,
   "metadata": {},
   "outputs": [
    {
     "data": {
      "text/html": [
       "<div>\n",
       "<style>\n",
       "    .dataframe thead tr:only-child th {\n",
       "        text-align: right;\n",
       "    }\n",
       "\n",
       "    .dataframe thead th {\n",
       "        text-align: left;\n",
       "    }\n",
       "\n",
       "    .dataframe tbody tr th {\n",
       "        vertical-align: top;\n",
       "    }\n",
       "</style>\n",
       "<table border=\"1\" class=\"dataframe\">\n",
       "  <thead>\n",
       "    <tr style=\"text-align: right;\">\n",
       "      <th></th>\n",
       "      <th>PassengerId</th>\n",
       "      <th>Survived</th>\n",
       "    </tr>\n",
       "  </thead>\n",
       "  <tbody>\n",
       "    <tr>\n",
       "      <th>412</th>\n",
       "      <td>1305</td>\n",
       "      <td>False</td>\n",
       "    </tr>\n",
       "    <tr>\n",
       "      <th>413</th>\n",
       "      <td>1306</td>\n",
       "      <td>True</td>\n",
       "    </tr>\n",
       "    <tr>\n",
       "      <th>414</th>\n",
       "      <td>1307</td>\n",
       "      <td>False</td>\n",
       "    </tr>\n",
       "    <tr>\n",
       "      <th>415</th>\n",
       "      <td>1308</td>\n",
       "      <td>False</td>\n",
       "    </tr>\n",
       "    <tr>\n",
       "      <th>416</th>\n",
       "      <td>1309</td>\n",
       "      <td>False</td>\n",
       "    </tr>\n",
       "  </tbody>\n",
       "</table>\n",
       "</div>"
      ],
      "text/plain": [
       "     PassengerId  Survived\n",
       "412         1305     False\n",
       "413         1306      True\n",
       "414         1307     False\n",
       "415         1308     False\n",
       "416         1309     False"
      ]
     },
     "execution_count": 81,
     "metadata": {},
     "output_type": "execute_result"
    }
   ],
   "source": [
    "results = pd.DataFrame()\n",
    "results['PassengerId'] = test_data.index\n",
    "results['Survived'] = test_y_pred\n",
    "results.tail()"
   ]
  },
  {
   "cell_type": "code",
   "execution_count": 85,
   "metadata": {},
   "outputs": [
    {
     "data": {
      "text/html": [
       "<div>\n",
       "<style>\n",
       "    .dataframe thead tr:only-child th {\n",
       "        text-align: right;\n",
       "    }\n",
       "\n",
       "    .dataframe thead th {\n",
       "        text-align: left;\n",
       "    }\n",
       "\n",
       "    .dataframe tbody tr th {\n",
       "        vertical-align: top;\n",
       "    }\n",
       "</style>\n",
       "<table border=\"1\" class=\"dataframe\">\n",
       "  <thead>\n",
       "    <tr style=\"text-align: right;\">\n",
       "      <th></th>\n",
       "      <th>PassengerId</th>\n",
       "      <th>Survived</th>\n",
       "    </tr>\n",
       "  </thead>\n",
       "  <tbody>\n",
       "    <tr>\n",
       "      <th>412</th>\n",
       "      <td>1305</td>\n",
       "      <td>0</td>\n",
       "    </tr>\n",
       "    <tr>\n",
       "      <th>413</th>\n",
       "      <td>1306</td>\n",
       "      <td>1</td>\n",
       "    </tr>\n",
       "    <tr>\n",
       "      <th>414</th>\n",
       "      <td>1307</td>\n",
       "      <td>0</td>\n",
       "    </tr>\n",
       "    <tr>\n",
       "      <th>415</th>\n",
       "      <td>1308</td>\n",
       "      <td>0</td>\n",
       "    </tr>\n",
       "    <tr>\n",
       "      <th>416</th>\n",
       "      <td>1309</td>\n",
       "      <td>0</td>\n",
       "    </tr>\n",
       "  </tbody>\n",
       "</table>\n",
       "</div>"
      ],
      "text/plain": [
       "     PassengerId  Survived\n",
       "412         1305         0\n",
       "413         1306         1\n",
       "414         1307         0\n",
       "415         1308         0\n",
       "416         1309         0"
      ]
     },
     "execution_count": 85,
     "metadata": {},
     "output_type": "execute_result"
    }
   ],
   "source": [
    "results['Survived'] = results['Survived'].apply(lambda x: x*1)\n",
    "results.tail()"
   ]
  },
  {
   "cell_type": "code",
   "execution_count": null,
   "metadata": {
    "colab": {},
    "colab_type": "code",
    "id": "3zNzDSg3AGhk"
   },
   "outputs": [],
   "source": [
    "# FOR GOOGLE COLAB - UNCOMMENT LINES BELOW\n",
    "\n",
    "# filename = \"Titanic result ANN 2019-05-04.csv\"\n",
    "# results.to_csv(filename, index=False)\n",
    "# from google.colab import files\n",
    "# files.download(filename) "
   ]
  },
  {
   "cell_type": "code",
   "execution_count": 86,
   "metadata": {
    "colab": {},
    "colab_type": "code",
    "id": "1ghRLmts-Phq"
   },
   "outputs": [],
   "source": [
    "# FOR JUPYTER NOTEBOOK - UNCOMMENT LINES BELOW AND UPDATE FILENAME\n",
    "\n",
    "filename = \"Titanic Results/Titanic result ANN 2019-05-04.csv\"\n",
    "results.to_csv(filename, index=False)"
   ]
  },
  {
   "cell_type": "code",
   "execution_count": null,
   "metadata": {},
   "outputs": [],
   "source": []
  }
 ],
 "metadata": {
  "colab": {
   "collapsed_sections": [
    "bzBbQPjTqGd3"
   ],
   "name": "ANN_Titanic.ipynb",
   "private_outputs": true,
   "provenance": [],
   "version": "0.3.2"
  },
  "kernelspec": {
   "display_name": "Python 3",
   "language": "python",
   "name": "python3"
  },
  "language_info": {
   "codemirror_mode": {
    "name": "ipython",
    "version": 3
   },
   "file_extension": ".py",
   "mimetype": "text/x-python",
   "name": "python",
   "nbconvert_exporter": "python",
   "pygments_lexer": "ipython3",
   "version": "3.6.3"
  }
 },
 "nbformat": 4,
 "nbformat_minor": 2
}
